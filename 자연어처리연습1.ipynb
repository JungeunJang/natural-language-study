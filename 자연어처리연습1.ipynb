{
 "metadata": {
  "language_info": {
   "codemirror_mode": {
    "name": "ipython",
    "version": 3
   },
   "file_extension": ".py",
   "mimetype": "text/x-python",
   "name": "python",
   "nbconvert_exporter": "python",
   "pygments_lexer": "ipython3",
   "version": "3.7.7-final"
  },
  "orig_nbformat": 2,
  "kernelspec": {
   "name": "python_defaultSpec_1599966037482",
   "display_name": "Python 3.7.7 64-bit"
  }
 },
 "nbformat": 4,
 "nbformat_minor": 2,
 "cells": [
  {
   "cell_type": "code",
   "execution_count": 1,
   "metadata": {},
   "outputs": [],
   "source": [
    "import pandas as pd"
   ]
  },
  {
   "cell_type": "code",
   "execution_count": 2,
   "metadata": {},
   "outputs": [],
   "source": [
    "\n",
    "doc1 = '''\n",
    "지능 지수 라는 말 들 어 보 셨 을 겁니다 . 여러분 의 지성 을 일컫 는 말 이 죠 . 그런데 심리 지수 란 건 뭘까요 ? 사람 들 이 특정 한 식 으로 행동 하 는 이유 에 대해 여러분 은 얼마나 알 고 계시 나요 ? 또 타인 이나 심지어 여러분 의 행동 을 예측 하 는 일 은 얼마나 잘 하 시 나요 ? 또 , 심리학 에 대해 갖춘 지식 중 에서 어느 정도 나 잘못 된 것 일까요 ? 심리학 에 관한 열 가지 신화 를 통해 잘못 된 것 들 을 알아보 도록 하 죠 . 여러분 은 한 번 쯤 들 어 보 셨 을 법 한 것 은 자신 들 의 심리학 에 대해 고려 할 때 , 거의 항상 남자 는 화성 에서 왔 고 , 여자 는 금성 에서 온 것 같 다고 합니다 . 하지만 실제로 남자 와 여자 는 얼마나 다른 걸까요 ? 이 를 알아보 기 위해 , 일단 남녀 사이 에 확실 하 게 차이 나 는 것 을 살펴보 고 심리학 적 인 성별 간 의 차이점 을 동일 한 척도 상 에서 대비 해 보 도록 하 겠 습니다 . 남자 와 여자 간 에 실제로 차이 나 는 능력 중 하나 는 그 들 이 공 을 얼마나 멀리 던질 수 있 느냐 하 는 것 입니다 . 여기 남자 들 의 데 이타 를 보 시 면 , 정상 분포 곡선 이 라는 걸 볼 수 있 습니다 . 남자 들 소수 는 정말 멀리 던지 고 , 남자 들 소수 는 멀리 던지 지 못하 지만 , 남자 들 대부분 은 평균 적 인 거리 를 던졌 습니다 . 여자 들 도 역시 비슷 한 분포 상태 를 보입니다 만 사실 남녀 사이 엔 커다란 차이 가 있 습니다 . 사실 , 평균 수준 의 남자 라면 모든 여성 중 대략 98 % 보다 더 멀리 던질 수 있 거든요 . 이 와 동일 하 게 표준 화 된 척도 상 에서 심리학 에서 말 하 는 성별 간 의 차이 를 살펴 봅시다 . 심리학자 라는 여러분 에게 말 하 길 남자 들 의 공간 지각 능력 이 여자 들 보다 뛰어나 다고 할 겁니다 . 예 를 들 어 , 지도 읽 는 능력 같 은 건데 , 맞 는 말 입니다 . 하지만 그 차이 의 정도 를 살펴봅시다 . 아주 작 죠 . 두 선 이 너무 근접 해서 거의 겹칠 정도 입니다 .\n",
    "'''\n",
    "\n",
    "doc2 = '''\n",
    "최상 의 제시 유형 은 학습 자 에 좌우 되 는 것 이 아니 라 학습 해야 할 내용 에 따라 좌우 됩니다 . 예 를 들 어 여러분 이 운전 하 기 를 배울 때 실제로 몸 으로 체감 하 는 경험 없이 누군가 가 어떻게 할 지 이야기 하 는 것 을 듣 는 것 만 으로 배울 수 있 습니까 ? 연립 방정식 을 풀 어야 하 는데 종이 에 쓰 지 않 고 머리 속 에서 말 하 는 것 으로 풀 수 가 있 을까요 ? 또는 만일 여러분 이 체감 형식 의 학습 자 유형 이 라면 , 건축학 시험 을 해석 적 춤 을 이용 하 여 수정 할 수 있 을까요 ? 아니 죠 ! 배워야 할 내용 을 제시 된 유형 에 맞추 어야 합니다 , 당신 에게 맞추 는 게 아니 라요 . 여러분 들 상당수 가 \" A \" 급 의 우등 생 이 라는 걸 아 는데 , 조만간 중등 학력 인증 시험 ( GCSE ) 결과 를 받 게 되 시 겠 네요 . 그런데 , 만일 , 여러분 들 이 희망 했 던 성적 을 받 지 못하 게 된다 해도 여러분 들 의 학습 방식 을 탓 해서 는 안 되 는 겁니다 . 여러분 이 비난 할 수 있 는 한 가지 는 바로 유전자 입니다 . 이건 최근 에 런던 대학교 ( UCL ) 에서 수행 했 던 연구 결과 는 여러 학생 들 과 그 들 의 중등 학력 인증 시험 결과 사이 의 차이 중 58 % 는 유전 적 인 요인 으로 좁혀졌 습니다 . 매우 정밀 한 수치 처럼 들립니다 . 그러면 어떻게 알 수 있 을까요 ? 유전 적 요인 과 환경 적 요인 의 상대 적 기여 도 를 알 고 싶 을 때 우리 가 사용 할 수 있 는 방식 은 바로 쌍둥이 연구 입니다 . 일 란 성 쌍생아 의 경우 환경 적 요인 과 유전 적 요인 모두 를 100 % 똑같이 공유 하 게 되 지만 이란 성 쌍생아 의 경우 는 100 % 동일 한 환경 을 공유 하 지만 유전자 의 경우 여타 의 형제자매 들 처럼 50 % 만 공유 하 게 됩니다 . 따라서 일 란 성 쌍둥이 와 이란 성 쌍둥이 사이 의 인증 시험 결과 가 얼마나 비슷 한지 비교 해 보 고 여기 에 약간 의 수학 적 계산 을 더하 게 되 면 그 수행 능력 의 차이 중 어느 정도 가 환경 적 요인 의 탓 이 고 어느 정도 가 유전자 탓 인지 를 알 수 있 게 됩니다 .\n",
    "'''\n",
    "\n",
    "doc3 = '''\n",
    "그러나 이 이야기 는 세 가지 이유 로 인해 신화 입니다 . 첫째 , 가장 중요 한 건 실험실 가운 은 흰색 이 아니 라 회색 이 었 다 라는 점 이 죠 . 둘째 , 참 여자 들 은 실험 하 기 전 에 와 참여 자 들 이 걱정 을 표현 할 때 마다 상기 시키 는 말 을 들 었 는데 , 전기 충격 이 고통 스럽 기 는 하 지만 , 치명 적 이 지 는 않 으며 실제로 영구 적 인 손상 을 남기 는 일 은 없 을 거 라는 것 이 었 습니다 . 셋째 , 참 여자 들 은 단지 가운 을 입 은 사람 이 시켜 전기 충격 을 주지 는 않 았 죠 . 실험 이 끝나 고 그 들 의 인터뷰 를 했 을 때 모든 참여 자 들 은 강한 신념 을 밝혔 는데 , ' 학습 과 처벌 ' 연구 가 과학 적 으로 가치 있 는 목적 을 수행 했 기 때문 에 비록 동료 참여 자 들 에게 가해진 순간 적 인 불편 함 에 반해서 과학 을 위해서 오래 남 을 성과 를 얻 을 것 이 라고 말 이 죠 . 그러 다 보 니 제 가 이야기 를 한 지 벌써 12 분 이 되 었 습니다 . 여러분 들 중 에 는 아마 거기 앉 아서 제 이야기 를 들으시는 동안 저 의 말투 와 몸짓 을 분석 하 면서 제 가 말 하 는 어떤 것 을 인지 해야 할까 해결 하 려고 하 셨 을 겁니다 , 제 가 진실 을 이야기 하 는 지 , 또는 거짓말 을 하 고 있 는 것 인지 말 이 죠 . 만일 그러 셨 다면 , 아마 지금 쯤 완전히 실패 하 셨 을 겁니다 . 왜냐하면 우리 모두 가 사람 이 말 하 는 패턴 과 몸짓 으로 도 거짓말 여부 를 알아내 는 것 이 가능 하 다고 생각 하 지만 , 오랜 세월 수백 회 에 걸쳐 행해진 실제 심리 검사 의 결과 를 보 면 우리 들 모두 는 , 심지어 경찰관 이나 탐정 들 을 포함 해서 도 기본 적 으로 몸짓 과 언어 적 패턴 으로 거짓말 을 탐지 하 는 것 은 운 에 맞 길 수 밖 에 는 없 는 것 입니다 . 흥미 롭 게 도 한 가지 예외 가 있 는데요 : 실종 된 친척 을 찾 아 달 라고 호소 하 는 TV 홍보 입니다 .\n",
    "'''"
   ]
  },
  {
   "cell_type": "code",
   "execution_count": 5,
   "metadata": {},
   "outputs": [
    {
     "output_type": "execute_result",
     "data": {
      "text/plain": ".     16\n는     15\n들     14\n,     10\n하     10\n      ..\n정상     1\n면      1\n이타     1\n데      1\n지능     1\nLength: 186, dtype: int64"
     },
     "metadata": {},
     "execution_count": 5
    }
   ],
   "source": [
    "def get_term_frequency(document, word_dict = None):\n",
    "    if word_dict is None:\n",
    "        word_dict = {}\n",
    "    words = document.split()\n",
    "\n",
    "    for w in words:\n",
    "        word_dict[w] = 1 +(0 if word_dict.get(w) is None else word_dict[w])\n",
    "    return pd.Series(word_dict).sort_values(ascending = False)\n",
    "\n",
    "get_term_frequency(doc1)"
   ]
  },
  {
   "cell_type": "code",
   "execution_count": 8,
   "metadata": {},
   "outputs": [
    {
     "output_type": "execute_result",
     "data": {
      "text/plain": ".      2\n여러분    2\n중      2\n일      2\n은      2\n      ..\n)      1\n따라서    1\n상당수    1\n된다     1\n지성     1\nLength: 311, dtype: int64"
     },
     "metadata": {},
     "execution_count": 8
    }
   ],
   "source": [
    "def get_document_frequency(documents):\n",
    "    dicts = []\n",
    "    vocab = set([])\n",
    "    df = {}\n",
    "\n",
    "    for d in documents:\n",
    "        tf = get_term_frequency(d)\n",
    "        dicts += [tf]\n",
    "        vocab = vocab | set(tf.keys())\n",
    "    for v in list(vocab):\n",
    "\n",
    "        df[v] = 0\n",
    "        for dict_d in dicts:\n",
    "            if dict_d.get(v) is not None:\n",
    "                df[v] += 1\n",
    "    return pd.Series(df).sort_values(ascending=False)\n",
    "\n",
    "get_document_frequency([doc1, doc2])"
   ]
  },
  {
   "cell_type": "code",
   "execution_count": 11,
   "metadata": {},
   "outputs": [
    {
     "output_type": "execute_result",
     "data": {
      "text/plain": "   word  frequency      doc1      doc2      doc3       max\n23   남자          9  9.887511  0.000000  0.000000  9.887511\n37   요인          6  0.000000  6.591674  0.000000  6.591674\n51  심리학          5  5.493061  0.000000  0.000000  5.493061\n57    었          4  0.000000  0.000000  4.394449  4.394449\n63    제          4  0.000000  0.000000  4.394449  4.394449\n..  ...        ...       ...       ...       ...       ...\n36   라는          6  0.000000  0.000000  0.000000  0.000000\n33    중          6  0.000000  0.000000  0.000000  0.000000\n30  습니다          7  0.000000  0.000000  0.000000  0.000000\n29    보          7  0.000000  0.000000  0.000000  0.000000\n0     는         47  0.000000  0.000000  0.000000  0.000000\n\n[437 rows x 6 columns]",
      "text/html": "<div>\n<style scoped>\n    .dataframe tbody tr th:only-of-type {\n        vertical-align: middle;\n    }\n\n    .dataframe tbody tr th {\n        vertical-align: top;\n    }\n\n    .dataframe thead th {\n        text-align: right;\n    }\n</style>\n<table border=\"1\" class=\"dataframe\">\n  <thead>\n    <tr style=\"text-align: right;\">\n      <th></th>\n      <th>word</th>\n      <th>frequency</th>\n      <th>doc1</th>\n      <th>doc2</th>\n      <th>doc3</th>\n      <th>max</th>\n    </tr>\n  </thead>\n  <tbody>\n    <tr>\n      <th>23</th>\n      <td>남자</td>\n      <td>9</td>\n      <td>9.887511</td>\n      <td>0.000000</td>\n      <td>0.000000</td>\n      <td>9.887511</td>\n    </tr>\n    <tr>\n      <th>37</th>\n      <td>요인</td>\n      <td>6</td>\n      <td>0.000000</td>\n      <td>6.591674</td>\n      <td>0.000000</td>\n      <td>6.591674</td>\n    </tr>\n    <tr>\n      <th>51</th>\n      <td>심리학</td>\n      <td>5</td>\n      <td>5.493061</td>\n      <td>0.000000</td>\n      <td>0.000000</td>\n      <td>5.493061</td>\n    </tr>\n    <tr>\n      <th>57</th>\n      <td>었</td>\n      <td>4</td>\n      <td>0.000000</td>\n      <td>0.000000</td>\n      <td>4.394449</td>\n      <td>4.394449</td>\n    </tr>\n    <tr>\n      <th>63</th>\n      <td>제</td>\n      <td>4</td>\n      <td>0.000000</td>\n      <td>0.000000</td>\n      <td>4.394449</td>\n      <td>4.394449</td>\n    </tr>\n    <tr>\n      <th>...</th>\n      <td>...</td>\n      <td>...</td>\n      <td>...</td>\n      <td>...</td>\n      <td>...</td>\n      <td>...</td>\n    </tr>\n    <tr>\n      <th>36</th>\n      <td>라는</td>\n      <td>6</td>\n      <td>0.000000</td>\n      <td>0.000000</td>\n      <td>0.000000</td>\n      <td>0.000000</td>\n    </tr>\n    <tr>\n      <th>33</th>\n      <td>중</td>\n      <td>6</td>\n      <td>0.000000</td>\n      <td>0.000000</td>\n      <td>0.000000</td>\n      <td>0.000000</td>\n    </tr>\n    <tr>\n      <th>30</th>\n      <td>습니다</td>\n      <td>7</td>\n      <td>0.000000</td>\n      <td>0.000000</td>\n      <td>0.000000</td>\n      <td>0.000000</td>\n    </tr>\n    <tr>\n      <th>29</th>\n      <td>보</td>\n      <td>7</td>\n      <td>0.000000</td>\n      <td>0.000000</td>\n      <td>0.000000</td>\n      <td>0.000000</td>\n    </tr>\n    <tr>\n      <th>0</th>\n      <td>는</td>\n      <td>47</td>\n      <td>0.000000</td>\n      <td>0.000000</td>\n      <td>0.000000</td>\n      <td>0.000000</td>\n    </tr>\n  </tbody>\n</table>\n<p>437 rows × 6 columns</p>\n</div>"
     },
     "metadata": {},
     "execution_count": 11
    }
   ],
   "source": [
    "def get_tfidf(docs):\n",
    "    vocab = {}\n",
    "    tfs = []\n",
    "    for d in docs:\n",
    "        vocab = get_term_frequency(d, vocab)\n",
    "        tfs += [get_term_frequency(d)]\n",
    "    df = get_document_frequency(docs)\n",
    "\n",
    "    from operator import itemgetter\n",
    "    import numpy as np\n",
    "\n",
    "    stats = []\n",
    "    for word, freq in vocab.items():\n",
    "        tfidfs = []\n",
    "        for idx in range(len(docs)):\n",
    "            if tfs[idx].get(word) is not None:\n",
    "                tfidfs += [tfs[idx][word] * np.log(len(docs)/ df[word])]\n",
    "            else:\n",
    "                tfidfs += [0]\n",
    "        stats.append((word, freq, *tfidfs, max(tfidfs)))\n",
    "    return pd.DataFrame(stats, columns=('word',\n",
    "                                        'frequency',\n",
    "                                        'doc1',\n",
    "                                        'doc2',\n",
    "                                        'doc3',\n",
    "                                        'max')).sort_values('max', ascending=False)\n",
    "\n",
    "get_tfidf([doc1, doc2, doc3])\n"
   ]
  },
  {
   "cell_type": "markdown",
   "metadata": {},
   "source": [
    "# Term-Frequency Matrix"
   ]
  },
  {
   "cell_type": "code",
   "execution_count": 17,
   "metadata": {},
   "outputs": [
    {
     "output_type": "execute_result",
     "data": {
      "text/plain": "    word  frequency  doc1  doc2  doc3\n0      는         47    15    14    18\n1      을         39     8    10    21\n2      .         36    16    10    10\n3      하         33    10     9    14\n4      이         32     8     8    16\n..   ...        ...   ...   ...   ...\n273   스럽          1     0     0     1\n274   치명          1     0     0     1\n275   으며          1     0     0     1\n276   영구          1     0     0     1\n436   최근          1     0     1     0\n\n[437 rows x 5 columns]",
      "text/html": "<div>\n<style scoped>\n    .dataframe tbody tr th:only-of-type {\n        vertical-align: middle;\n    }\n\n    .dataframe tbody tr th {\n        vertical-align: top;\n    }\n\n    .dataframe thead th {\n        text-align: right;\n    }\n</style>\n<table border=\"1\" class=\"dataframe\">\n  <thead>\n    <tr style=\"text-align: right;\">\n      <th></th>\n      <th>word</th>\n      <th>frequency</th>\n      <th>doc1</th>\n      <th>doc2</th>\n      <th>doc3</th>\n    </tr>\n  </thead>\n  <tbody>\n    <tr>\n      <th>0</th>\n      <td>는</td>\n      <td>47</td>\n      <td>15</td>\n      <td>14</td>\n      <td>18</td>\n    </tr>\n    <tr>\n      <th>1</th>\n      <td>을</td>\n      <td>39</td>\n      <td>8</td>\n      <td>10</td>\n      <td>21</td>\n    </tr>\n    <tr>\n      <th>2</th>\n      <td>.</td>\n      <td>36</td>\n      <td>16</td>\n      <td>10</td>\n      <td>10</td>\n    </tr>\n    <tr>\n      <th>3</th>\n      <td>하</td>\n      <td>33</td>\n      <td>10</td>\n      <td>9</td>\n      <td>14</td>\n    </tr>\n    <tr>\n      <th>4</th>\n      <td>이</td>\n      <td>32</td>\n      <td>8</td>\n      <td>8</td>\n      <td>16</td>\n    </tr>\n    <tr>\n      <th>...</th>\n      <td>...</td>\n      <td>...</td>\n      <td>...</td>\n      <td>...</td>\n      <td>...</td>\n    </tr>\n    <tr>\n      <th>273</th>\n      <td>스럽</td>\n      <td>1</td>\n      <td>0</td>\n      <td>0</td>\n      <td>1</td>\n    </tr>\n    <tr>\n      <th>274</th>\n      <td>치명</td>\n      <td>1</td>\n      <td>0</td>\n      <td>0</td>\n      <td>1</td>\n    </tr>\n    <tr>\n      <th>275</th>\n      <td>으며</td>\n      <td>1</td>\n      <td>0</td>\n      <td>0</td>\n      <td>1</td>\n    </tr>\n    <tr>\n      <th>276</th>\n      <td>영구</td>\n      <td>1</td>\n      <td>0</td>\n      <td>0</td>\n      <td>1</td>\n    </tr>\n    <tr>\n      <th>436</th>\n      <td>최근</td>\n      <td>1</td>\n      <td>0</td>\n      <td>1</td>\n      <td>0</td>\n    </tr>\n  </tbody>\n</table>\n<p>437 rows × 5 columns</p>\n</div>"
     },
     "metadata": {},
     "execution_count": 17
    }
   ],
   "source": [
    "def get_tf(docs):\n",
    "    vocab = {}\n",
    "    tfs = []\n",
    "    for d in docs:\n",
    "        vocab = get_term_frequency(d, vocab)\n",
    "        tfs += [get_term_frequency(d)]\n",
    "\n",
    "    from operator import itemgetter\n",
    "    import numpy as np\n",
    "\n",
    "    stats = []\n",
    "    for word, freq in vocab.items():\n",
    "        tf_v = []\n",
    "        for idx in range(len(docs)):\n",
    "            if tfs[idx].get(word) is not None:\n",
    "                tf_v += [tfs[idx][word]]\n",
    "            \n",
    "            else:\n",
    "                tf_v += [0]\n",
    "        stats.append((word, freq, *tf_v))\n",
    "\n",
    "    return pd.DataFrame(stats, columns=('word',\n",
    "                                        'frequency',\n",
    "                                        'doc1',\n",
    "                                        'doc2',\n",
    "                                        'doc3')).sort_values('frequency', ascending=False)\n",
    "\n",
    "get_tf([doc1, doc2, doc3])\n"
   ]
  },
  {
   "cell_type": "markdown",
   "metadata": {},
   "source": [
    "# Based on Context Window (Co-occurrence)"
   ]
  },
  {
   "cell_type": "code",
   "execution_count": 27,
   "metadata": {},
   "outputs": [],
   "source": [
    "with open('박경리_토지1.txt') as f:\n",
    "    lines = [l.strip() for l in f.read().splitlines() if l.strip()]"
   ]
  },
  {
   "cell_type": "code",
   "execution_count": 28,
   "metadata": {},
   "outputs": [
    {
     "output_type": "execute_result",
     "data": {
      "text/plain": "토지    1       1\n경     지은이:    1\n      박       1\n      리       1\n리     박       1\n             ..\n죽어    같다.     1\n      풀이      1\n      있었다.    1\n있었다.  죽어      1\n2권에서  계속      1\nLength: 157361, dtype: int64"
     },
     "metadata": {},
     "execution_count": 28
    }
   ],
   "source": [
    "from collections import defaultdict\n",
    "import pandas as pd\n",
    "\n",
    "def get_context_counts(lines, w_wize =2):\n",
    "    co_dict = defaultdict(int)\n",
    "\n",
    "    for line in lines:\n",
    "        words = line.split()\n",
    "\n",
    "        for i, w in enumerate(words):\n",
    "            for c in words[i - w_wize: i + w_wize]:\n",
    "                if w != c:\n",
    "                    co_dict[(w, c)] += 1\n",
    "    return pd.Series(co_dict)\n",
    "\n",
    "co_dict = get_context_counts(lines)\n",
    "co_dict"
   ]
  },
  {
   "cell_type": "code",
   "execution_count": 29,
   "metadata": {},
   "outputs": [
    {
     "output_type": "execute_result",
     "data": {
      "text/plain": "그        440\n안        383\n있었다.     341\n한        268\n것        256\n        ... \n동년배로서      1\n뒹굴며        1\n자랐다고는      1\n보기를        1\n토지         1\nLength: 33963, dtype: int64"
     },
     "metadata": {},
     "execution_count": 29
    }
   ],
   "source": [
    "tfs = get_term_frequency(' '.join(lines))\n",
    "tfs"
   ]
  },
  {
   "cell_type": "code",
   "execution_count": 30,
   "metadata": {},
   "outputs": [
    {
     "output_type": "execute_result",
     "data": {
      "text/plain": "수        195\n있는       186\n것이다.     185\n못        177\n이        175\n        ... \n동년배로서      1\n뒹굴며        1\n자랐다고는      1\n보기를        1\n토지         1\nLength: 33958, dtype: int64"
     },
     "metadata": {},
     "execution_count": 30
    }
   ],
   "source": [
    "tfs = tfs[tfs < 200]\n",
    "tfs"
   ]
  },
  {
   "cell_type": "code",
   "execution_count": 31,
   "metadata": {
    "tags": []
   },
   "outputs": [
    {
     "output_type": "stream",
     "name": "stdout",
     "text": "수  있는  것이다.  못  이  용이는  같은  하고  없는  다  ...  낮은  카는데  거의  윤씨  하더니  \\\n수       0  15     0  0  1    0   0   0  26  1  ...   0    0   0   0    0   \n있는     15   0     4  0  0    0   0   3   1  0  ...   0    0   0   0    0   \n것이다.    3   6     0  1  0    2   0   3   2  0  ...   0    0   0   0    0   \n못       0   0     1  0  0    0   1   1   0  0  ...   0    0   0   0    0   \n이       2   1     1  0  0    0   0   1   0  0  ...   0    1   0   0    0   \n...    ..  ..   ... .. ..  ...  ..  ..  .. ..  ...  ..  ...  ..  ..  ...   \n돌았다.    0   0     0  0  0    1   0   0   0  0  ...   0    0   0   0    0   \n여자는     0   0     0  0  1    0   0   0   0  0  ...   0    0   0   0    0   \n떠난      0   0     0  0  0    0   0   0   0  0  ...   0    0   0   0    0   \n넓은      0   2     0  0  0    0   0   0   0  0  ...   0    0   0   0    0   \n아니요.\"   0   0     0  0  0    0   0   0   0  0  ...   0    0   0   0    0   \n\n       돌았다.  여자는  떠난  넓은  아니요.\"  \n수         0    0   0   0      0  \n있는        0    0   0   1      0  \n것이다.      0    0   0   0      0  \n못         0    0   0   0      0  \n이         0    1   0   0      0  \n...     ...  ...  ..  ..    ...  \n돌았다.      0    0   0   0      0  \n여자는       0    0   0   0      0  \n떠난        0    0   0   0      0  \n넓은        0    0   0   0      0  \n아니요.\"     0    0   0   0      0  \n\n[1000 rows x 1000 columns]\n"
    }
   ],
   "source": [
    "def co_occurrence(co_dict, vocab):\n",
    "    data = []\n",
    "\n",
    "    for word1 in vocab:\n",
    "        row = []\n",
    "\n",
    "        for word2 in vocab:\n",
    "            try:\n",
    "                count = co_dict[(word1, word2)]\n",
    "            except KeyError:\n",
    "                count = 0\n",
    "            row.append(count)\n",
    "        data.append(row)\n",
    "    return pd.DataFrame(data, index = vocab, columns=vocab)\n",
    "\n",
    "co = co_occurrence(co_dict, tfs.index[:1000])\n",
    "print(co)"
   ]
  },
  {
   "cell_type": "code",
   "execution_count": 32,
   "metadata": {},
   "outputs": [],
   "source": [
    "import torch\n",
    "\n",
    "torch.save(co, 'co.path')"
   ]
  },
  {
   "cell_type": "code",
   "execution_count": 33,
   "metadata": {},
   "outputs": [
    {
     "output_type": "execute_result",
     "data": {
      "text/plain": "        수  있는  것이다.  못  이  용이는  같은  하고  없는  다  ...  낮은  카는데  거의  윤씨  하더니  \\\n수       0  15     0  0  1    0   0   0  26  1  ...   0    0   0   0    0   \n있는     15   0     4  0  0    0   0   3   1  0  ...   0    0   0   0    0   \n것이다.    3   6     0  1  0    2   0   3   2  0  ...   0    0   0   0    0   \n못       0   0     1  0  0    0   1   1   0  0  ...   0    0   0   0    0   \n이       2   1     1  0  0    0   0   1   0  0  ...   0    1   0   0    0   \n...    ..  ..   ... .. ..  ...  ..  ..  .. ..  ...  ..  ...  ..  ..  ...   \n돌았다.    0   0     0  0  0    1   0   0   0  0  ...   0    0   0   0    0   \n여자는     0   0     0  0  1    0   0   0   0  0  ...   0    0   0   0    0   \n떠난      0   0     0  0  0    0   0   0   0  0  ...   0    0   0   0    0   \n넓은      0   2     0  0  0    0   0   0   0  0  ...   0    0   0   0    0   \n아니요.\"   0   0     0  0  0    0   0   0   0  0  ...   0    0   0   0    0   \n\n       돌았다.  여자는  떠난  넓은  아니요.\"  \n수         0    0   0   0      0  \n있는        0    0   0   1      0  \n것이다.      0    0   0   0      0  \n못         0    0   0   0      0  \n이         0    1   0   0      0  \n...     ...  ...  ..  ..    ...  \n돌았다.      0    0   0   0      0  \n여자는       0    0   0   0      0  \n떠난        0    0   0   0      0  \n넓은        0    0   0   0      0  \n아니요.\"     0    0   0   0      0  \n\n[1000 rows x 1000 columns]",
      "text/html": "<div>\n<style scoped>\n    .dataframe tbody tr th:only-of-type {\n        vertical-align: middle;\n    }\n\n    .dataframe tbody tr th {\n        vertical-align: top;\n    }\n\n    .dataframe thead th {\n        text-align: right;\n    }\n</style>\n<table border=\"1\" class=\"dataframe\">\n  <thead>\n    <tr style=\"text-align: right;\">\n      <th></th>\n      <th>수</th>\n      <th>있는</th>\n      <th>것이다.</th>\n      <th>못</th>\n      <th>이</th>\n      <th>용이는</th>\n      <th>같은</th>\n      <th>하고</th>\n      <th>없는</th>\n      <th>다</th>\n      <th>...</th>\n      <th>낮은</th>\n      <th>카는데</th>\n      <th>거의</th>\n      <th>윤씨</th>\n      <th>하더니</th>\n      <th>돌았다.</th>\n      <th>여자는</th>\n      <th>떠난</th>\n      <th>넓은</th>\n      <th>아니요.\"</th>\n    </tr>\n  </thead>\n  <tbody>\n    <tr>\n      <th>수</th>\n      <td>0</td>\n      <td>15</td>\n      <td>0</td>\n      <td>0</td>\n      <td>1</td>\n      <td>0</td>\n      <td>0</td>\n      <td>0</td>\n      <td>26</td>\n      <td>1</td>\n      <td>...</td>\n      <td>0</td>\n      <td>0</td>\n      <td>0</td>\n      <td>0</td>\n      <td>0</td>\n      <td>0</td>\n      <td>0</td>\n      <td>0</td>\n      <td>0</td>\n      <td>0</td>\n    </tr>\n    <tr>\n      <th>있는</th>\n      <td>15</td>\n      <td>0</td>\n      <td>4</td>\n      <td>0</td>\n      <td>0</td>\n      <td>0</td>\n      <td>0</td>\n      <td>3</td>\n      <td>1</td>\n      <td>0</td>\n      <td>...</td>\n      <td>0</td>\n      <td>0</td>\n      <td>0</td>\n      <td>0</td>\n      <td>0</td>\n      <td>0</td>\n      <td>0</td>\n      <td>0</td>\n      <td>1</td>\n      <td>0</td>\n    </tr>\n    <tr>\n      <th>것이다.</th>\n      <td>3</td>\n      <td>6</td>\n      <td>0</td>\n      <td>1</td>\n      <td>0</td>\n      <td>2</td>\n      <td>0</td>\n      <td>3</td>\n      <td>2</td>\n      <td>0</td>\n      <td>...</td>\n      <td>0</td>\n      <td>0</td>\n      <td>0</td>\n      <td>0</td>\n      <td>0</td>\n      <td>0</td>\n      <td>0</td>\n      <td>0</td>\n      <td>0</td>\n      <td>0</td>\n    </tr>\n    <tr>\n      <th>못</th>\n      <td>0</td>\n      <td>0</td>\n      <td>1</td>\n      <td>0</td>\n      <td>0</td>\n      <td>0</td>\n      <td>1</td>\n      <td>1</td>\n      <td>0</td>\n      <td>0</td>\n      <td>...</td>\n      <td>0</td>\n      <td>0</td>\n      <td>0</td>\n      <td>0</td>\n      <td>0</td>\n      <td>0</td>\n      <td>0</td>\n      <td>0</td>\n      <td>0</td>\n      <td>0</td>\n    </tr>\n    <tr>\n      <th>이</th>\n      <td>2</td>\n      <td>1</td>\n      <td>1</td>\n      <td>0</td>\n      <td>0</td>\n      <td>0</td>\n      <td>0</td>\n      <td>1</td>\n      <td>0</td>\n      <td>0</td>\n      <td>...</td>\n      <td>0</td>\n      <td>1</td>\n      <td>0</td>\n      <td>0</td>\n      <td>0</td>\n      <td>0</td>\n      <td>1</td>\n      <td>0</td>\n      <td>0</td>\n      <td>0</td>\n    </tr>\n    <tr>\n      <th>...</th>\n      <td>...</td>\n      <td>...</td>\n      <td>...</td>\n      <td>...</td>\n      <td>...</td>\n      <td>...</td>\n      <td>...</td>\n      <td>...</td>\n      <td>...</td>\n      <td>...</td>\n      <td>...</td>\n      <td>...</td>\n      <td>...</td>\n      <td>...</td>\n      <td>...</td>\n      <td>...</td>\n      <td>...</td>\n      <td>...</td>\n      <td>...</td>\n      <td>...</td>\n      <td>...</td>\n    </tr>\n    <tr>\n      <th>돌았다.</th>\n      <td>0</td>\n      <td>0</td>\n      <td>0</td>\n      <td>0</td>\n      <td>0</td>\n      <td>1</td>\n      <td>0</td>\n      <td>0</td>\n      <td>0</td>\n      <td>0</td>\n      <td>...</td>\n      <td>0</td>\n      <td>0</td>\n      <td>0</td>\n      <td>0</td>\n      <td>0</td>\n      <td>0</td>\n      <td>0</td>\n      <td>0</td>\n      <td>0</td>\n      <td>0</td>\n    </tr>\n    <tr>\n      <th>여자는</th>\n      <td>0</td>\n      <td>0</td>\n      <td>0</td>\n      <td>0</td>\n      <td>1</td>\n      <td>0</td>\n      <td>0</td>\n      <td>0</td>\n      <td>0</td>\n      <td>0</td>\n      <td>...</td>\n      <td>0</td>\n      <td>0</td>\n      <td>0</td>\n      <td>0</td>\n      <td>0</td>\n      <td>0</td>\n      <td>0</td>\n      <td>0</td>\n      <td>0</td>\n      <td>0</td>\n    </tr>\n    <tr>\n      <th>떠난</th>\n      <td>0</td>\n      <td>0</td>\n      <td>0</td>\n      <td>0</td>\n      <td>0</td>\n      <td>0</td>\n      <td>0</td>\n      <td>0</td>\n      <td>0</td>\n      <td>0</td>\n      <td>...</td>\n      <td>0</td>\n      <td>0</td>\n      <td>0</td>\n      <td>0</td>\n      <td>0</td>\n      <td>0</td>\n      <td>0</td>\n      <td>0</td>\n      <td>0</td>\n      <td>0</td>\n    </tr>\n    <tr>\n      <th>넓은</th>\n      <td>0</td>\n      <td>2</td>\n      <td>0</td>\n      <td>0</td>\n      <td>0</td>\n      <td>0</td>\n      <td>0</td>\n      <td>0</td>\n      <td>0</td>\n      <td>0</td>\n      <td>...</td>\n      <td>0</td>\n      <td>0</td>\n      <td>0</td>\n      <td>0</td>\n      <td>0</td>\n      <td>0</td>\n      <td>0</td>\n      <td>0</td>\n      <td>0</td>\n      <td>0</td>\n    </tr>\n    <tr>\n      <th>아니요.\"</th>\n      <td>0</td>\n      <td>0</td>\n      <td>0</td>\n      <td>0</td>\n      <td>0</td>\n      <td>0</td>\n      <td>0</td>\n      <td>0</td>\n      <td>0</td>\n      <td>0</td>\n      <td>...</td>\n      <td>0</td>\n      <td>0</td>\n      <td>0</td>\n      <td>0</td>\n      <td>0</td>\n      <td>0</td>\n      <td>0</td>\n      <td>0</td>\n      <td>0</td>\n      <td>0</td>\n    </tr>\n  </tbody>\n</table>\n<p>1000 rows × 1000 columns</p>\n</div>"
     },
     "metadata": {},
     "execution_count": 33
    }
   ],
   "source": [
    "co = torch.load('co.path')\n",
    "co"
   ]
  },
  {
   "cell_type": "markdown",
   "metadata": {},
   "source": [
    "# Similarity Measures"
   ]
  },
  {
   "cell_type": "code",
   "execution_count": 34,
   "metadata": {},
   "outputs": [],
   "source": [
    "# 벡터유사도 L1 거리\n",
    "\n",
    "def get_l1_distance(x1, x2):\n",
    "    return ((x1 - x2).abs()).sum()"
   ]
  },
  {
   "cell_type": "code",
   "execution_count": 35,
   "metadata": {},
   "outputs": [],
   "source": [
    "# 벡터유사도 L1 거리\n",
    "\n",
    "def get_l2_distance(x1, x2):\n",
    "    return ((x1 - x2)**2).sum()**.5"
   ]
  },
  {
   "cell_type": "code",
   "execution_count": 36,
   "metadata": {},
   "outputs": [],
   "source": [
    "# infinity norm\n",
    "\n",
    "def get_infinity_distance(x1, x2):\n",
    "    return ((x1 - x2).abs()).max()"
   ]
  },
  {
   "cell_type": "code",
   "execution_count": 40,
   "metadata": {},
   "outputs": [],
   "source": [
    "# 코사인 유사도\n",
    "\n",
    "def get_cosine_similarity(x1, x2):\n",
    "    return (x1 * x2).sum() / ((x1**2).sum()**.5 * (x2**2).sum()**.5)"
   ]
  },
  {
   "cell_type": "code",
   "execution_count": 37,
   "metadata": {},
   "outputs": [],
   "source": [
    "# 자카드 유사도\n",
    "\n",
    "def get_jaccard_similarity(x1, x2):\n",
    "    return torch.stack([x1, x2]).min(dim=0)[0].sum() / torch.stack([x1, x2]).max(dim=0)[0].sum()\n"
   ]
  },
  {
   "cell_type": "code",
   "execution_count": 38,
   "metadata": {},
   "outputs": [],
   "source": [
    "def get_nearest(query, dataframe, metric, top_k, ascending=True):\n",
    "    vector = torch.FloatTensor(dataframe.loc[query].values)\n",
    "    distances = dataframe.apply(lambda x: metric(vector, torch.FloatTensor(x.values)), axis=1)\n",
    "    top_distances = distances.sort_values(ascending=ascending)[:top_k]\n",
    "\n",
    "    print(', '.join([f'{k} ({v:.1f})' for k, v in top_distances.items()]))"
   ]
  },
  {
   "cell_type": "code",
   "execution_count": 41,
   "metadata": {
    "tags": []
   },
   "outputs": [
    {
     "output_type": "stream",
     "name": "stdout",
     "text": "L1 distance:\n우리 (0.0), \"그럴 (29.0), 고 (29.0), \"……\" (30.0), \"그라믄 (30.0), 그렇지. (30.0), \"야.\" (30.0), \"우리 (30.0), \"내가 (30.0), \"왜 (30.0), \"흥, (30.0), \"그래 (30.0), \"그, (30.0), \"야?\" (30.0), 었다. (30.0), \"나 (30.0), 를 (30.0), \"이 (30.0), \"...?\" (30.0), \"아따 (30.0), \"니 (30.0), \"예, (30.0), 구신이 (30.0), \"그 (30.0), \"아 (30.0), \"...\" (30.0), 로 (31.0), 하기사 (31.0), \"그런데 (31.0), \"예.\" (31.0)\n\nL2 distance:\n우리 (0.0), \"니 (5.7), 구신이 (5.7), 고 (5.7), 망태를 (5.7), \"그럴 (5.7), 었다. (5.8), \"흥, (5.8), \"...\" (5.8), 그렇지. (5.8), \"나 (5.8), \"야?\" (5.8), \"아 (5.8), 를 (5.8), \"...?\" (5.8), \"아따 (5.8), \"그라믄 (5.8), \"그래 (5.8), \"이 (5.8), \"그, (5.8), \"예, (5.8), \"왜 (5.8), \"……\" (5.8), \"그 (5.8), \"우리 (5.8), \"내가 (5.8), \"야.\" (5.8), \"누가 (5.9), \"어디 (5.9), 은 (5.9)\n\nInfinity distance:\n우리 (0.0), 삼수가 (2.0), 약 (2.0), 문 (2.0), 양반이 (2.0), 옆에 (2.0), 입에 (2.0), 산에 (2.0), 해 (2.0), 이를 (2.0), 풀을 (2.0), 더욱 (2.0), 심이 (2.0), 친다. (2.0), 넓은 (2.0), 윤씨부인의 (2.0), \"무신 (2.0), 시선을 (2.0), 머가 (2.0), 이고 (2.0), 속으로 (2.0), 이때 (2.0), 그가 (2.0), 보인다. (2.0), 나무 (2.0), 피가 (2.0), 얼굴 (2.0), 급히 (2.0), \"우리 (2.0), 눈앞에 (2.0)\n\nCosine similarity:\n우리 (1.0), 구신이 (0.2), \"니 (0.2), 든 (0.2), 사램이 (0.2), 내 (0.2), 망태를 (0.2), 소 (0.2), 게 (0.2), 월선이가 (0.2), 그게 (0.2), 얼굴 (0.2), \"그럴 (0.2), 고 (0.2), 밑에 (0.2), 보믄 (0.2), 나 (0.2), 볼 (0.2), 사람이 (0.2), 있다 (0.2), 어디 (0.2), 있을 (0.2), 검은 (0.2), 기이 (0.2), 했을 (0.1), 사는 (0.1), 귀녀는 (0.1), 나는 (0.1), 여기서 (0.1), 멀리 (0.1)\n\nJaccard similarity:\n우리 (1.0), 내 (0.1), 게 (0.1), 있다 (0.1), 집에 (0.1), 볼 (0.1), 있을 (0.1), 사는 (0.1), 나 (0.1), 머가 (0.1), 얼굴 (0.1), 나는 (0.1), 사람이 (0.1), 수가 (0.1), 든 (0.1), 귀녀는 (0.1), 사램이 (0.1), 놈이 (0.1), 그럴 (0.1), 소리 (0.1), 이리 (0.1), 아무것도 (0.1), 용이 (0.1), 아주 (0.1), 본 (0.1), 묵을 (0.1), 가서 (0.1), 누가 (0.1), 소 (0.1), 하는 (0.1)\n"
    }
   ],
   "source": [
    "print('L1 distance:')\n",
    "get_nearest('우리', co, get_l1_distance, 30)\n",
    "print('\\nL2 distance:')\n",
    "get_nearest('우리', co, get_l2_distance, 30)\n",
    "print('\\nInfinity distance:')\n",
    "get_nearest('우리', co, get_infinity_distance, 30)\n",
    "print('\\nCosine similarity:')\n",
    "get_nearest('우리', co, get_cosine_similarity, 30, ascending=False)\n",
    "print('\\nJaccard similarity:')\n",
    "get_nearest('우리', co, get_jaccard_similarity, 30, ascending=False)"
   ]
  },
  {
   "cell_type": "markdown",
   "metadata": {},
   "source": [
    "# Thesaurus Based Method: Lesk Algorithm\n",
    "시소러스 기반 중의성 해소: 레스크 알고리즘"
   ]
  },
  {
   "cell_type": "code",
   "execution_count": 42,
   "metadata": {
    "tags": []
   },
   "outputs": [
    {
     "output_type": "stream",
     "name": "stdout",
     "text": "Synset('bass.n.01') the lowest part of the musical range\nSynset('bass.n.02') the lowest part in polyphonic music\nSynset('bass.n.03') an adult male singer with the lowest voice\nSynset('sea_bass.n.01') the lean flesh of a saltwater fish of the family Serranidae\nSynset('freshwater_bass.n.01') any of various North American freshwater fish with lean flesh (especially of the genus Micropterus)\nSynset('bass.n.06') the lowest adult male singing voice\nSynset('bass.n.07') the member with the lowest range of a family of musical instruments\nSynset('bass.n.08') nontechnical name for any of numerous edible marine and freshwater spiny-finned fishes\nSynset('bass.s.01') having or denoting a low vocal or instrumental range\n"
    }
   ],
   "source": [
    "from nltk.corpus import wordnet as wn\n",
    "for ss in wn.synsets('bass'):\n",
    "    print(ss, ss.definition())"
   ]
  },
  {
   "cell_type": "code",
   "execution_count": 43,
   "metadata": {},
   "outputs": [],
   "source": [
    "# 레이크 알고리즘\n",
    "\n",
    "def lesk(sentence, word):\n",
    "    from nltk.wsd import lesk\n",
    "\n",
    "    best_synset = lesk(sentence.split(), word)\n",
    "    print(best_synset, best_synset.definition())\n"
   ]
  },
  {
   "cell_type": "code",
   "execution_count": 44,
   "metadata": {
    "tags": []
   },
   "outputs": [
    {
     "output_type": "stream",
     "name": "stdout",
     "text": "Synset('sea_bass.n.01') the lean flesh of a saltwater fish of the family Serranidae\n"
    }
   ],
   "source": [
    "\n",
    "sentence = 'I went fishing last weekend and I got a bass and cooked it'\n",
    "word = 'bass'\n",
    "lesk(sentence, word)"
   ]
  },
  {
   "cell_type": "code",
   "execution_count": 45,
   "metadata": {
    "tags": []
   },
   "outputs": [
    {
     "output_type": "stream",
     "name": "stdout",
     "text": "Synset('bass.n.02') the lowest part in polyphonic music\n"
    }
   ],
   "source": [
    "sentence = 'I love the music from the speaker which has strong beat and bass'\n",
    "word = 'bass'\n",
    "lesk(sentence, word)"
   ]
  },
  {
   "cell_type": "code",
   "execution_count": 46,
   "metadata": {
    "tags": []
   },
   "outputs": [
    {
     "output_type": "stream",
     "name": "stdout",
     "text": "Synset('sea_bass.n.01') the lean flesh of a saltwater fish of the family Serranidae\n"
    }
   ],
   "source": [
    "\n",
    "sentence = 'I think the bass is more important than guitar'\n",
    "word = 'bass'\n",
    "lesk(sentence, word)"
   ]
  },
  {
   "cell_type": "markdown",
   "metadata": {},
   "source": [
    "# 선택선호도 "
   ]
  },
  {
   "cell_type": "code",
   "execution_count": 47,
   "metadata": {
    "tags": []
   },
   "outputs": [
    {
     "output_type": "stream",
     "name": "stderr",
     "text": "'export'��(��) ���� �Ǵ� �ܺ� ����, ������ �� �ִ� ���α׷�, �Ǵ�\n��ġ ������ �ƴմϴ�.\n"
    }
   ],
   "source": [
    "!export MACOSX_DEPLOYMENT_TARGET=10.10"
   ]
  },
  {
   "cell_type": "code",
   "execution_count": 48,
   "metadata": {},
   "outputs": [
    {
     "output_type": "execute_result",
     "data": {
      "text/plain": "'C:\\\\Program Files\\\\Java\\\\jdk1.8.0_241\\\\jre\\\\bin\\\\server\\\\jvm.dll'"
     },
     "metadata": {},
     "execution_count": 48
    }
   ],
   "source": [
    "import jpype\n",
    "jpype.getDefaultJVMPath()"
   ]
  },
  {
   "cell_type": "code",
   "execution_count": 51,
   "metadata": {},
   "outputs": [
    {
     "output_type": "execute_result",
     "data": {
      "text/plain": "구마',\n  '철',\n  '멋',\n  '덕',\n  '물리'],\n '거들떠보': ['눈'],\n '물르': ['허'],\n '터지': ['수', '젖가슴', '화통', '가리', '자질', '일'],\n '나타내': ['신분', '변화', '흥분'],\n '가두': ['도장'],\n '카': ['대문', '정성', '인물', '이사', '심', '제집', '사라'],\n '죽': ['말',\n  '마마',\n  '풀이',\n  '나이',\n  '할매',\n  '간난',\n  '딸',\n  '할매',\n  '감',\n  '할멈',\n  '과부',\n  '풀이',\n  '연두',\n  '내가',\n  '목매',\n  '여인',\n  '할망구',\n  '얼굴',\n  '작',\n  '명이',\n  '마라',\n  '소나무',\n  '남'],\n '닫': ['문', '구신'],\n '눈물나': ['눈'],\n '꾀': ['천이'],\n '맞': ['맘',\n  '눈',\n  '죽',\n  '불',\n  '매',\n  '총',\n  '세도',\n  '어지',\n  '눈',\n  '죽',\n  '칼',\n  '입',\n  '주묵',\n  '천이',\n  '앞뒤',\n  '매도',\n  '벼락'],\n '그리하': ['라',\n  '집안',\n  '음',\n  '자식',\n  '더',\n  '원망',\n  '자',\n  '음',\n  '열',\n  '겁',\n  '성미',\n  '저녁',\n  '군',\n  '시기',\n  '반',\n  '연지',\n  '어머니',\n  '여우',\n  '머리',\n  '안색',\n  '지라',\n  '기지',\n  '감이',\n  '동네',\n  '어른',\n  '안',\n  '마라'],\n '타': ['바람',\n  '가마',\n  '바람',\n  '말',\n  '숨결',\n  '상',\n  '틈',\n  '시원',\n  '모깃불',\n  '연',\n  '말',\n  '아미',\n  '바람',\n  '만족',\n  '말',\n  '불만',\n  '노염',\n  '오',\n  '바람',\n  '장작'],\n '몰르': ['환장', '누'],\n '싶': ['건성', '지', '말', '성'],\n '쥐어박': ['머리', '머리'],\n '까': ['때',\n  '피신처',\n  '르',\n  '독자',\n  '바',\n  '사주',\n  '어보',\n  '바',\n  '한마디',\n  '건넌방',\n  '정말',\n  '제',\n  '밤',\n  '개',\n  '주',\n  '예',\n  '르',\n  '박복',\n  '기',\n  '안',\n  '을',\n  '밤'],\n '벗기': ['갑', '껍질'],\n '버리': ['재미', '계집', '별당', '손'],\n '펴보': ['손'],\n '내배': ['삼수'],\n '메우': ['공간', '사방'],\n '벌이': ['판', '을', '격투'],\n '덮치': ['눈', '납덩이'],\n '도사리': ['마루', '사랑'],\n '노': ['눈', '사람'],\n '데려오': ['박', '양자', '엄마', '엄마'],\n '울부짖': ['발광'],\n '넋빠지': ['순'],\n '업': ['손자', '용', '서방님', '길상', '애기씨', '삼월', '쟁', '일', '길상'],\n '키': ['리', '불', '불', '촛불', '불'],\n '꼬집': ['무릎'],\n '꺼내': ['손수건'],\n '얼': ['시어머니', '가', '불빛', '음', '딸', '얼음'],\n '들어차': ['뜨락'],\n '풀어지': ['의식'],\n '느껴': ['거짓말'],\n '밀려오': ['득'],\n '가보': ['늙은이', '보소', '할매'],\n '일으키': ['난', '몸'],\n '바라보': ['을',\n  '상여',\n  '때',\n  '마루',\n  '용',\n  '용',\n  '치수',\n  '굴',\n  '뒷모습',\n  '서까래',\n  '불길',\n  '산',\n  '안댁',\n  '눈'],\n '낳': ['셈',\n  '사철',\n  '초행자',\n  '양반',\n  '화가',\n  '희생',\n  '구형',\n  '보고',\n  '젖',\n  '식이',\n  '불',\n  '용',\n  '겨울',\n  '아이',\n  '몸',\n  '물건',\n  '결말'],\n '대하': ['마음',\n  '어머니',\n  '조',\n  '예',\n  '근',\n  '양반',\n  '아내',\n  '일',\n  '구별',\n  '사건',\n  '동학당',\n  '혁명',\n  '아씨',\n  '근본',\n  '댁',\n  '녀',\n  '주가'],\n '만들': ['가루', '화근', '뒤죽박죽', '역사'],\n '봉하': ['입'],\n '시': ['지보', '돈', '술', '아침', '디', '시절', '님', '심'],\n '맞장구치': ['근거'],\n '같': ['전'],\n '흘리': ['피', '콧물', '눈물', '눈물', '침', '땀', '침', '침', '땀'],\n '숨': ['뒷모습', '지하', '때'],\n '여기': ['기', '목숨', '밭일', '업', '녀', '놀이'],\n '귀담아듣': ['말'],\n '깨닫': ['용도', '고', '달수', '뜻'],\n '불르': ['무당', '일', '부인', '서방', '소리', '큰소리', '한번'],\n '개': ['유', '유'],\n '여물': ['머릿골'],\n '깜박이': ['눈', '눈도'],\n '없이': ['은', '이', '자가', '인덕'],\n '더듬': ['눈', '말'],\n '놀': ['벌레', '뜰', '말대', '물동이', '구의', '쪽', '마룻장', '연못가'],\n '들어서': ['방안', '로', '안', '마당', '주막', '속', '마당', '뜰', '집', '장터', '뜨락'],\n '잡수': ['먼지', '미음'],\n '겹': ['설움'],\n '피나': ['꽃'],\n '울리': ['아낙', '뇌성', '들판', '소리', '소리', '소리', '목소리', '소리', '사람'],\n '괴': ['히', '높이', '물', '눈물'],\n '서': ['일어',\n  '서',\n  '장바닥',\n  '을',\n  '앞',\n  '주막',\n  '일어',\n  '보',\n  '밖',\n  '서방',\n  '혼자',\n  '독기',\n  '우',\n  '친정',\n  '앞',\n  '숙모',\n  '이기',\n  '날'],\n '세우': ['초', '날', '귀', '머리', '날'],\n '쳐다보': ['얼굴',\n  '댁',\n  '의원',\n  '근심',\n  '대',\n  '모습',\n  '을',\n  '할멈',\n  '표정',\n  '용',\n  '용',\n  '윤',\n  '안주',\n  '꾸러미',\n  '쪽'],\n '돌려주': ['구', '약'],\n '디': ['눈독', '문'],\n '떠울리': ['세숫물'],\n '꼬': ['서방', '깨소금'],\n '피어오르': ['글'],\n '껴안': ['허리', '손'],\n '누이': ['을'],\n '도': ['각시', '짐승'],\n '끄': ['불', '털', '등잔불'],\n '안': ['망태', '자', '모친', '시어머니', '순'],\n '넓': ['부인'],\n '울': ['자식',\n  '선',\n  '암탉',\n  '서방',\n  '댁네',\n  '매미',\n  '벌레',\n  '개구리',\n  '일',\n  '설',\n  '아이',\n  '뻐꾸기',\n  '암탉',\n  '첫닭',\n  '애기씨',\n  '순'],\n '꾸짖': ['목소리'],\n '지켜보': ['의원', '죽음', '선', '동작'],\n '떨': ['을', '훈장', '전신', '길', '누', '오늘', '내가', '마을', '망', '길상', '지', '부'],\n '울먹거리': ['순'],\n '집': ['실꾸리'],\n '번지': ['미소', '미소'],\n '뇌': ['입속', '말', '만족'],\n '쪼으': ['땅바닥'],\n '나자빠지': ['뒤'],\n '뽀': ['노', '살림살이', '살림살이'],\n '생기': ['그릇', '지게'],\n '퍼넣': ['여물통'],\n '흔들리': ['요령', '불빛', '눈알', '행복', '선망', '달빛', '순간', '바람', '요령'],\n '모이': ['어른', '모양'],\n '맞이하': ['어둠', '겨울'],\n '뒤적이': ['쇠죽'],\n '줄': ['밖', '말', '사실', '치수', '치수', '눈', '커서'],\n '질러가': ['마당', '마당'],\n '쓸': ['가루', '마당', '엽총', '바람', '바닥', '밑', '마당'],\n '살리': ['임'],\n '사': ['약',\n  '사람',\n  '성',\n  '우리집',\n  '고',\n  '하루',\n  '매',\n  '술',\n  '아배',\n  '더',\n  '병자',\n  '돌팔이',\n  '이',\n  '봉',\n  '열세',\n  '사람',\n  '안',\n  '이자',\n  '열',\n  '해',\n  '내가',\n  '개축',\n  '개축',\n  '사람',\n  '개기',\n  '개기',\n  '열세',\n  '일가',\n  '갈피',\n  '개피떡',\n  '상놈',\n  '요새'],\n '매이': ['간', '몸', '제집'],\n '과하': ['복'],\n '터뜨리': ['울화통'],\n '시들': ['댕기', '댁'],\n '모자라': ['양기', '기가', '양기', '돈', '수단'],\n '빠지': ['속',\n  '새',\n  '새',\n  '수렁',\n  '뼈',\n  '사이',\n  '뼛골',\n  '쓸개',\n  '살이',\n  '시선',\n  '힘',\n  '염',\n  '뼈',\n  '바닥',\n  '날',\n  '이',\n  '노인',\n  '밑',\n  '밑'],\n '야물': ['댁네'],\n '벌개지': ['귀뿌리', '얼굴', '얼굴', '얼굴', '얼굴', '얼굴', '얼굴'],\n '맺': ['말', '말끝', '베틀', '돈'],\n '삼': ['볼모', '벗', '이불', '말벗', '사돈'],\n '저러': ['허탕'],\n '내뱉': ['큰소리', '속', '한마디', '말', '댁', '칠성'],\n '변하': ['비웃음',\n  '색',\n  '잔인',\n  '사람',\n  '사람',\n  '얼굴빛',\n  '낯빛',\n  '초지장',\n  '얼굴빛',\n  '천하',\n  '백지장',\n  '빛',\n  '세상',\n  '빛깔',\n  '회갈색'],\n '잊': ['기', '월선', '길상', '요새', '초조', '길상', '말', '맛'],\n '쌓이': ['밖'],\n '두': ['매',\n  '다짐',\n  '일',\n  '군',\n  '치레',\n  '심중',\n  '겉',\n  '자식',\n  '다짐',\n  '솜',\n  '일',\n  '연놈',\n  '월선',\n  '솜'],\n '그을리': ['로', '강바람'],\n '얽히': ['여'],\n '자시': ['객리'],\n '바치': ['공양', '성'],\n '개기': ['오지'],\n '뱉': ['침', '침', '침', '침'],\n '날뛰': ['정열적', '장안'],\n '끝나': ['싸움', '하관', '말', '탈놀음', '말', '말', '내사', '판'],\n '백이': ['이'],\n '돋': ['흥', '사나이', '구슬', '뒤쪽', '눈물', '세상'],\n '씹어뱉': ['반찬'],\n '겄': ['살',\n  '몸살',\n  '묵',\n  '떼',\n  '살이',\n  '모래',\n  '어주',\n  '르',\n  '열',\n  '열',\n  '오',\n  '지',\n  '바',\n  '가야',\n  '살',\n  '보',\n  '리',\n  '낫',\n  '물리',\n  '바람'],\n '부치': ['몸', '히', '땅', '땅'],\n '빼': ['빗장', '내고', '얼굴', '이마', '점잔', '집'],\n '커': ['짐작', '원통'],\n '트': ['길', '땅'],\n '빨': ['음', '피', '피', '담배', '피'],\n '빌어묵': ['장'],\n '되돌아오': ['마을'],\n '물어뜯기': ['겁탈'],\n '섞이': ['울음', '불만', '자랑'],\n '오르': ['독', '청', '시세', '벼슬', '벼슬길', '피', '베틀', '비리'],\n '어짜': ['수염'],\n '걷히': ['웃음'],\n '떼': ['입', '시치미', '을', '돈'],\n '들어내': ['농짝'],\n '사라지': ['표정', '논둑', '뒷모습', '사랑', '사랑', '속'],\n '던지': ['시선', '로'],\n '끝내': ['세수', '빨래', '저녁', '바둑', '셈', '인사', '방랑길'],\n '받아내': ['장세'],\n '일': ['경련', '발작', '심화', '바람'],\n '나타나': ['물건', '집이', '문간', '길상', '주막', '팽나무', '칠성'],\n '빠져나오': ['장터'],\n '잇': ['말', '말', '명', '이야기', '졸지', '말'],\n '애먹': ['애기씨'],\n '비우': ['접시'],\n '벌리': ['눈', '팔', '아가리', '입'],\n '우쩌': ['이', '하'],\n '마시': ['근심', '술', '윌', '심려', '소리', '억측', '의치', '술', '술'],\n '파': ['들', '자리', '땅', '뿌리', '땅', '흙'],\n '떠오르': ['웃음', '머릿속', '빛', '로'],\n '강하': ['아집', '자부심', '질투'],\n '파묻히': ['속', '속', '속'],\n '묶': ['목'],\n '노리': ['용'],\n '떠나': ['서울',\n  '전',\n  '참판댁',\n  '고',\n  '산',\n  '물동이',\n  '문전',\n  '구천',\n  '길',\n  '양반',\n  '자리',\n  '배',\n  '아침',\n  '길',\n  '을',\n  '길',\n  '삽짝'],\n '이쁘': ['댁네'],\n '얹': ['리', '대가리', '등에', '위'],\n '빌': ['낮', '가랑비', '야', '집', '지애', '애', '장수', '신장대', '신장대', '성취'],\n '싣': ['서울', '복'],\n '열리': ['방문', '옥매화', '안'],\n '욕보': ['매가', '오니'],\n '날아오': ['덕', '핀잔'],\n '치오르': ['눈꼬리'],\n '말리': ['조상', '조상', '돌이', '이번', '가'],\n '있었': ['곳', '꿈속', '악의'],\n '싫어하': ['생각', '변화', '임'],\n '말': ['라지',\n  '보리죽',\n  '걱정',\n  '마',\n  '걱정',\n  '마',\n  '잔소리',\n  '어른',\n  '걱정',\n  '라',\n  '걱정',\n  '말',\n  '가'],\n '매': ['목', '얼', '밭', '나귀', '밭', '청승', '달'],\n '돌아가': ['집',\n  '시국',\n  '로',\n  '이동진',\n  '모습',\n  '외양간',\n  '집',\n  '뒤쪽',\n  '잔',\n  '서울',\n  '수포',\n  '얼굴',\n  '집'],\n '견디': ['날씨', '스님', '포악'],\n '떠받들': ['권위'],\n '늙': ['가지', '아씨', '나이'],\n '돌아가시': ['배', '기요'],\n '놔두': ['입', '일'],\n '돋우': ['심지', '심지'],\n '주워듣': ['상상'],\n '당하': ['변', '날치기', '도', '수모', '꼬임', '놀림', '수모'],\n '밀어붙이': ['웃목'],\n '않': ['지', '지', '지', '지도', '지', '지', '납지', '지', '상치', '지', '지도', '지', '지'],\n '팔': ['값', '한눈', '영', '나라', '안', '술', '넋', '몸', '팔기', '여자'],\n '깊어지': ['이야기'],\n '삼키': ['침', '침', '속', '침'],\n '묵어가': ['하룻밤'],\n '내어놓': ['목심', '벼슬'],\n '이르': ['산',\n  '마을',\n  '계집종',\n  '개똥',\n  '노스님',\n  '참판댁',\n  '월선',\n  '강가',\n  '선',\n  '문전',\n  '은',\n  '산골'],\n '뭐하': ['내고', '르'],\n '넣': ['나도', '손', '티'],\n '마': ['갑', '티끌', '재수', '이요', '양잿물', '가락', '성', '르', '멋', '오밤중', '음식'],\n '놀리': ['아가리', '딸'],\n '쫓아가': ['길', '부엌', '당황', '뒷간', '고'],\n '쿠': ['시'],\n '나무라': ['개천', '아이', '팽이', '가'],\n '에': ['할멈', '이야기'],\n '가르': ['나도', '주막'],\n '다물': ['입', '입', '입', '입', '입술', '입술'],\n '떠돌': ['객지'],\n '두드리': ['바가지', '치수', '혀', '곰방대', '담뱃대'],\n '떠놓': ['물', '도'],\n '얹히': ['위'],\n '다그': ['뒤안'],\n '붓': ['물', '술', '술', '술'],\n '기어오': ['기류', '맨'],\n '설치': ['사치'],\n '더불': ['병색', '박영효'],\n '끊이': ['밑바닥'],\n '올려놓': ['머리', '안장', '자루바가지', '위'],\n '빚': ['혼란'],\n '입': ['미친놈', '양복', '양복'],\n '뺏': ['그네', '잡이'],\n '믿': ['흥', '허풍', '총대', '한복', '심'],\n '들먹이': ['가락지', '포수'],\n '지니': ['반반', '여우', '기량'],\n '쥐': ['주먹', '주먹', '리', '돈'],\n '동여매': ['수건'],\n '의하': ['이용태'],\n '일어나': ['서울', '자리', '마', '구월', '역전'],\n '이끌': ['길', '포수', '병력'],\n '바꾸': ['미역', '의관', '양상'],\n '되어가': ['일', '쑥밭', '해', '일', '발전'],\n '물들': ['진홍빛', '피'],\n '휩쓸': ['읍내', '동학군'],\n '도망치': ['맨', '액'],\n '표하': ['의', '의'],\n '니': ['기름', '귀', '욕심', '죄', '평생'],\n '문지르': ['얼굴', '을', '고'],\n '보내': ['을', '눈길', '시선', '사람', '눈길', '눈길', '참판댁'],\n '설레': ['평일', '가슴'],\n '낯설': ['생각'],\n '미어지': ['가슴'],\n '퍼지르': ['앞', '마당', '바닥'],\n '바라': ['빛', '자식', '벼슬길', '애기'],\n '달라지': ['사람',\n  '말씨',\n  '얼굴빛',\n  '낯빛',\n  '들판',\n  '세상',\n  '낯빛',\n  '낯빛',\n  '얼굴빛',\n  '사정',\n  '얼굴빛',\n  '세상',\n  '말씨'],\n '챙기': ['걸레', '물감'],\n '뵈': ['꿈', '덕', '뽄때', '포수', '절'],\n '맞잡': ['손', '손'],\n '땋': ['몸매'],\n '살아나': ['탈'],\n '치켜들': ['뒷도련', '탈'],\n '끼': ['이끼', '새', '겨드랑이', '홀', '보따리', '데', '토', '근심', '팔짱'],\n '다듬': ['을'],\n '살아가': ['재주'],\n '불거지': ['실밥'],\n '쌓': ['옆', '보자기', '오줌', '나무'],\n '새어들': ['로'],\n '밀어내': ['다래끼', '대접'],\n '들이마시': ['코'],\n '굴러들': ['마을'],\n '붙': ['옆',\n  '행랑',\n  '뒷벽',\n  '하니',\n  '구신',\n  '구신',\n  '구신',\n  '김',\n  '앞',\n  '노',\n  '머슴',\n  '숨',\n  '종놈'],\n '내려가': ['집', '마을', '을', '로'],\n '뽑아내': ['바늘'],\n '끝맺': ['말'],\n '튕기': ['목소리'],\n '어지럽히': ['안'],\n '감싸': ['가', '손', '턱'],\n '이기': ['일본', '후예', '누', '종년', '성미'],\n '들이': ['방구석', '돌', '넋', '쌍', '물'],\n '고리': ['반'],\n '할딱이': ['숨'],\n '올라오': ['아래쪽'],\n '넘치': ['물이', '몸', '밖', '생명'],\n '우쭐대': ['길상'],\n '내려놓': ['손님', '땅바닥'],\n '다하': ['박', '목숨', '일'],\n '기다리': ['발설', '이상', '심', '지기', '윤', '심덕', '서서'],\n '떠나버리': ['밖', '육로'],\n '올르': ['누', '당사자', '독', '서울', '기름', '스님', '꼭대기', '재수', '나그네'],\n '싸쥐': ['감'],\n '밀': ['등'],\n '꿇': ['무릎', '무릎'],\n '일어서': ['결성', '풀섶', '댁', '마루', '이동진', '월선'],\n '두르': ['치마'],\n '데려다주': ['거들'],\n '끌리': ['지남철'],\n '사무치': ['골수', '냉기'],\n '질르': ['소리', '부', '소', '큰소리'],\n '팔리': ['정신'],\n '옴지락거리': ['몸'],\n '슬': ['어르신', '오'],\n '뿜': ['연기', '분위기'],\n '놀라': ['모친', '월선'],\n '틀어지': ['비위'],\n '가시': ['절', '오늘', '표정'],\n '닮': ['아비', '낚시질', '어미', '애비', '밀'],\n '돌': ['맴',\n  '덕',\n  '빛',\n  '눈물',\n  '숲',\n  '을',\n  '눈물',\n  '눈',\n  '뱅뱅이',\n  '눈물',\n  '맴',\n  '집안',\n  '모랭이',\n  '눈물',\n  '방',\n  '기색',\n  '눈물'],\n '주고받': ['말', '애기', '얘기'],\n '피우': ['딴전', '담배', '소란'],\n '엇바꾸': ['자리'],\n '추': ['춤', '맨', '춤', '아래', '그늘', '춤', '병신춤'],\n '춤추': ['지'],\n '올라가': ['기로', '발길', '길', '언덕', '가겟방'],\n '치켜올리': ['말기'],\n '들이대': ['의병', '얼굴'],\n '내리': ['나귀', '대바구니', '결단', '지시', '비', '앞', '나귀', '서리'],\n '구부러지': ['리'],\n '비': ['마당', '연', '하늘', '뜰'],\n '찌': ['날씨', '이', '심', '수도'],\n '물려받': ['할아범'],\n '어기': ['철'],\n '들여다보': ['마당'],\n '기': ['서방', '이사', '말기', '일', '사램', '사램', '길'],\n '들어스': ['밭'],\n '즐기': ['평소', '을', '사냥', '국'],\n '내디디': ['발'],\n '갈기': ['소', '덩이'],\n '원하': ['부인', '아무것'],\n '내다보': ['길', '앞일', '티'],\n '엮': ['싸리', '수숫대', '싸리'],\n '우찌': ['숙모'],\n '갖다대': ['입'],\n '싸': ['우', '무'],\n '외': ['염불'],\n '뒤집어쓰': ['키', '불티'],\n '그렇': ['하니', '생각', '며누리', '아암', '흉사', '모', '바', '마음', '마을', '기'],\n '눕히': ['자리'],\n '찌푸리': ['살', '얼굴', '눈살', '이맛살'],\n '알아차리': ['잘못', '할멈'],\n '업히': ['자아', '등', '등'],\n '알리': ['이쪽'],\n '베리': ['성냥', '도'],\n '구하': ['규수', '구', '주', '엽총', '포', '엽총', '엽총', '불로초', '곳'],\n '얻': ['땅', '히', '나부랭이', '물', '계집', '제삿밥', '물', '물'],\n '물려주': ['제사'],\n '새빨개지': ['볼'],\n '디리': ['심', '상', '심'],\n '어쩌': ['흙담', '자신', '자신', '댁', '룸', '천주학', '만큼', '흥분'],\n '만나': ['비', '세상', '구름', '형님', '포수', '포수', '곽란', '예', '댁네', '아낙', '주막'],\n '휘두르': ['담뱃대'],\n '둘러보': ['사방', '산소'],\n '망하': ['나라', '집안', '나라', '옷', '세상'],\n '끊어지': ['창자', '창자'],\n '살펴보': ['눈'],\n '쭈그러들': ['오가리'],\n '해내': ['농사일'],\n '살아남': ['하나'],\n '밟': ['이슬', '을'],\n '맡': ['냄새', '냄새', '새', '일'],\n '가리키': ['학자', '눈', '턱', '담뱃대'],\n '먹여주': ['배'],\n '모여들': ['얼굴', '사람', '피', '끝', '곳'],\n '뜯어고치': ['마음'],\n '치밀': ['화'],\n '쫓아내': ['동네'],\n '달아나': ['월선', '고', '혼자', '종놈', '무섬증', '집', '토끼', '쇠'],\n '모시': ['선생', '신위', '청상'],\n '눕': ['어미', '들판', '며칠', '놈팡이', '병', '종년', '곽란'],\n '지새우': ['밤'],\n '차리': ['속', '김치', '진지상'],\n '주무시': ['도', '아부지'],\n '서둘': ['마음'],\n '떨리': ['서방', '눈까풀'],\n '엎디': ['보리밭'],\n '건네': ['안댁'],\n '닦이': ['땀'],\n '시집가': ['윗마을'],\n '걷어차': ['밥상'],\n '묻어두': ['보물'],\n '끓': ['물', '이', '파국'],\n '다가앉': ['곁'],\n '가져오': ['냉수', '점심', '숟가락', '호피'],\n '내리오': ['마을', '산신', '할매', '영감'],\n '기어들': ['골방'],\n '쏘아붙이': ['주모'],\n '밀리': ['임', '단시'],\n '묶이': ['발'],\n '어떡허': ['값'],\n '어리': ['나이', '옛날', '이요', '돌이', '기억', '살바기'],\n '골': ['빛깔', '코'],\n '헐': ['이제', '염치', '틀림', '죽음'],\n '낮추': ['어조', '목소리', '허리', '소리'],\n '갓나': ['지'],\n '그러하': ['내림'],\n '계시': ['허물', '벽촌', '역관', '사랑', '손님', '사랑'],\n '뛰어가': ['길상'],\n '알았': ['초당'],\n '쏘이': ['바람'],\n '돋보이': ['선비'],\n '드리': ['안', '인사'],\n '기뻐하': ['노'],\n '취하': ['무시'],\n '묻히': ['속', '수염', '서울', '벽촌'],\n '갈아입': ['베옷', '양복'],\n '몰아넣': ['판국'],\n '주무르': ['빨래', '팔', '히', '을'],\n '앞서가': ['풍습'],\n '가로막': ['말'],\n '끌어들이': ['들', '물'],\n '겪': ['부인', '수모'],\n '쳐들': ['턱', '쇠스랑'],\n '연달': ['변란'],\n '파먹': ['땅', '내장'],\n '얕보': ['힘'],\n '굶기': ['은'],\n '싸지르': ['보고'],\n '뵙': ['다음'],\n '빌리': ['안', '말', '을'],\n '짚': ['맥', '상', '지팡이', '지팡이', '허공'],\n '참': ['기로', '몸', '지금', '웃음', '감당'],\n '흩어지': ['장꾼', '어머니', '아이', '땅바닥'],\n '헤벌어지': ['입'],\n '받으': ['자신', '문'],\n '마르': ['피', '진일', '목', '처'],\n '베': ['전', '목침', '끝', '풀'],\n '맛보': ['보리'],\n '쭈그리': ['길가', '앞', '할멈'],\n '여위': ['입'],\n '허물': ['살가죽'],\n '말르': ['맨'],\n '결리': ['리'],\n '만': ['임', '강청', '할멈'],\n '가물': ['날', '날'],\n '미치': ['테', '제집', '안댁', '낚시', '주먹', '생각'],\n '뜨': ['눈', '눈', '실눈', '눈', '눈', '얼굴', '바가지', '물'],\n '깔깔대': ['아낙', '삼월'],\n '끌어당기': ['팔', '치맛자락'],\n '엎드리': ['옆', '채마밭'],\n '베이': ['골'],\n '덮이': ['잎새'],\n '닿': ['발', '바닥', '이월', '손', '발바닥', '얼굴', '낫'],\n '나불거리': ['주둥이'],\n '야단나': ['삼월'],\n '달래': ['마음', '조상', '삼월'],\n '그치': ['울음'],\n '맨들': ['혼자', '집'],\n '자라': ['씨종', '손', '마음'],\n '머금': ['웃음', '미소', '습기', '을', '냉기'],\n '뛰어오르': ['고기'],\n '내놓': ['말', '종아리', '닭', '눈', '지'],\n '맞아떨어지': ['심'],\n '없': ['일', '오', '사램', '대꾸'],\n '삼기': ['침'],\n '씨': ['유복자'],\n '젖': ['등', '곳', '노'],\n '화하': ['입안'],\n '떠밀': ['배'],\n '희번득이': ['제물'],\n '잘하': ['서도', '우스갯소리'],\n '치우': ['방울', '안'],\n '채': ['눈치'],\n '무릎쓰': ['염치'],\n '헤어지': ['고'],\n '헤매': ['동안', '동안'],\n '숨기': ['치마', '을'],\n '끊': ['도구', '밥', '줄', '말', '발걸음'],\n '쏟아지': ['코피', '억수', '햇빛', '별'],\n '팽개치': ['낫', '멍석', '곰방대'],\n '다니': ['수가', '집'],\n '갇히': ['한동안'],\n '뇌이': ['입속'],\n '찌르': ['을', '목', '코끝', '코'],\n '싸이': ['먼지'],\n '찌그러지': ['아랫목'],\n '신들리': ['연꽃'],\n '사그라지': ['불길'],\n '일그러지': ['불안', '굴'],\n '낚아채': ['머리채', '벌', '갓'],\n '짓밟': ['나막신', '방바닥'],\n '이러': ['서방', '사람', '이', '이'],\n '막히': ['기가', '말문', '숨', '입'],\n '떨어뜨리': ['목소리'],\n '죄': ['다', '부인', '힘'],\n '부끄럽': ['각'],\n '잠들': ['그림', '라'],\n '속': ['흥'],\n '지껄이': ['말', '정통', '아침'],\n '거두': ['섬', '눈길', '낚시줄', '발', '눈길', '보리'],\n '나르': ['소원', '나', '밥상', '겉', '해보'],\n '외치': ['문간', '큰소리'],\n '훑어가': ['콩'],\n '훔치': ['달걀'],\n '퍼붓': ['담', '욕설', '비', '고'],\n '뀌': ['코방귀'],\n '궂히': ['동네', '동네'],\n '푸': ['물', '고집', '수수께끼', '물', '물', '도둑질'],\n '엎이': ['사마'],\n '맑': ['웃물'],\n '어울리': ['양반', '족', '아이놈'],\n '접어놓': ['가슴'],\n '새': ['날', '날도', '요'],\n '거머잡': ['이번'],\n '오그라지': ['손목'],\n '나앉': ['빈손', '마니'],\n '거치': ['마누라', '댁'],\n '헤치': ['소', '을', '어둠'],\n '머물': ['강물', '서울', '한곳'],\n '걸치': ['어깨', '절구통', '가락', '미', '개울'],\n '들고나': ['재물'],\n '아스': ['이'],\n '스며들': ['고', '궁둥이'],\n '들추': ['풍문', '피'],\n '털어놓': ['멋', '이쯤'],\n '놀라워하': ['당황'],\n '지나치': ['옆'],\n '때리': ['양반', '나도', '면상', '조막', '뺨'],\n '감추': ['눈빛', '눈빛'],\n '재미나': ['이번'],\n '들여놓': ['발'],\n '논하': ['국사'],\n '잡히': ['덜미', '치수'],\n '건지': ['목숨'],\n '맞추': ['장단', '비위'],\n '눌리': ['가위', '기세', '압력'],\n '마주치': ['귀녀', '과'],\n '권하': ['훈장', '남', '오르기', '한번', '농부', '을'],\n '사귀': ['일본인', '사람'],\n '나리': ['댁'],\n '깎아내리': ['양반'],\n '품': ['비수', '의문'],\n '숙이': ['고개', '고개'],\n '간하': ['옷맵시'],\n '만지': ['배', '귓밥', '등'],\n '튀': ['불꽃', '불꽃', '콩', '말'],\n '부릅뜨': ['눈', '눈', '눈'],\n '깎': ['무로', '머리'],\n '부끄러워하': ['감격'],\n '달려가': ['집', '헛간', '월선', '구름'],\n '좋': ['시절'],\n '내오': ['상'],\n '제하': ['등'],\n '관하': ['자신'],\n '자르': ['삼끈', '넋두리', '상투'],\n '배우': ['식자', '상놈', '풍월', '을'],\n '내노': ['의견'],\n '덮어놓': ['행세'],\n '들여오': ['제도'],\n '보여주': ['힘'],\n '서두르': ['자리'],\n '긷': ['물', '물', '말'],\n '끼치': ['폐'],\n '나누': ['인사'],\n '적시': ['버선'],\n '다녀오': ['진주', '산', '절', '집'],\n '다스리': ['몸'],\n '쫓기': ['담'],\n '들려주': ['할멈'],\n '치이': ['진저리'],\n '도맡': ['집안'],\n '잃어버리': ['아드님'],\n '싫': ['담'],\n '꾸': ['지'],\n '뻗어지': ['개'],\n '자빠지': ['개'],\n '뜯': ['구전', '송장'],\n '거르': ['저'],\n '내지르': ['새', '르'],\n '빗나가': ['이야기'],\n '때': ['밭', '모친'],\n '내몰': ['강가'],\n '씻': ['보리쌀', '쌀', '국', '쌀'],\n '사하': ['주'],\n '깨': ['선잠', '조'],\n '멍들': ['가문'],\n '거느리': ['첩', '일곱'],\n '남기': ['계집아이', '저주'],\n '흘러가': ['길상'],\n '올려다보': ['바구니', '눈빛', '하늘', '하늘', '석류꽃'],\n '부': ['험이'],\n '엇나가': ['짐작'],\n '속삭이': ['소리'],\n '찢어지': ['속적삼', '소쩍새'],\n '녀': ['귀', '참'],\n '건드리': ['내가'],\n '으스러지': ['뼈'],\n '다녀가': ['마을'],\n '합치': ['육신'],\n '되잡': ['전'],\n '내쉬': ['한숨'],\n '갈라': ['안', '집'],\n '기웃거리': ['방'],\n '뻗': ['뒤'],\n '식히': ['목덜미', '땀'],\n '바래': ['강물'],\n '밝히': ['등잔불', '밤'],\n '담': ['쌀'],\n '얻어묵': ['공것', '한잔', '술'],\n '옮기': ['걸음', '바구니', '밑', '걸음', '걸음', '바리'],\n '찾아들': ['방망이'],\n '막': ['코', '을', '말'],\n '거스르': ['비위'],\n '섬기': ['가장'],\n '덩달': ['조무래기', '말'],\n '타이르': ['가'],\n '따라오': ['말', '댁'],\n '얼씬거리': ['강아지'],\n '뿌시': ['때'],\n '주저앉': ['땅바닥', '댁'],\n '녹이': ['간장'],\n '쓰러뜨리': ['월선'],\n '고치': ['버르장머리', '옷매무새'],\n '식': ['마음', '열기'],\n '직이': ['이요', '날'],\n '누그러지': ['어세'],\n '쳐가': ['불'],\n '짜르': ['상투', '기'],\n '잘못하': ['말'],\n '빌빌거리': ['매'],\n '시집오': ['혼사'],\n '앉히': ['방석'],\n '틀': ['목'],\n '흘기': ['눈'],\n '찧': ['방아'],\n '새우': ['밤'],\n '피하': ['눈', '눈', '구신', '우', '내일', '노름판'],\n '뻗치': ['팔'],\n '좋아지': ['기분'],\n '갸우뚱거리': ['고개'],\n '뚜디': ['일'],\n '벗어나': ['땅', '읍내'],\n '정들이': ['장'],\n '가로놓이': ['밑동'],\n '쐬': ['바람'],\n '덮': ['책'],\n '허': ['소리', '들판'],\n '오므리': ['입', '입'],\n '울려오': ['냄새'],\n '채리': ['정신'],\n '따라댕기': ['양반'],\n '메': ['집안'],\n '일하': ['가숙', '들판'],\n '불어나': ['그릇'],\n '굶': ['옆'],\n '바라지': ['댕기'],\n '뛰어들': ['로'],\n '반짝하': ['눈'],\n '딩굴': ['순'],\n '돋아나': ['피멍'],\n '퍼마시': ['술'],\n '뿌러지': ['몽댕이'],\n '질리': ['바우', '얼굴'],\n '우짖': ['서방'],\n '괴롭히': ['동안'],\n '가르치': ['들', '솜씨'],\n '부풀': ['간덩이'],\n '빈정거리': ['최치수', '주모'],\n '비하': ['장사', '몸집'],\n '매달': ['나무'],\n '물러가': ['서방'],\n '가라앉히': ['자신'],\n '뒤지': ['막'],\n '흐리': ['밑', '기분'],\n '짓눌리': ['밑'],\n '가라': ['누', '부인', '내일'],\n '무르': ['댁'],\n '기어가': ['두꺼비'],\n '매맞': ['관'],\n '굳어지': ['얼굴'],\n '치뜨': ['눈'],\n '어려워하': ['길상'],\n '뿌리': ['물', '물'],\n '잠자': ['남'],\n '일러두': ['서방'],\n '들어보': ['문고', '정이', '얼굴'],\n '눈뜨': ['말씀'],\n '토하': ['숨결', '숨', '숨'],\n '부서지': ['얼굴'],\n '다가가': ['앞', '곁'],\n '다시': ['입맛'],\n '쥐어박히': ['얼굴'],\n '밀치': ['개똥'],\n '거들': ['길상'],\n '속닥거리': ['멋'],\n '윽박지르': ['공이'],\n '전하': ['입', '순', '월선'],\n '채워지': ['통'],\n '어지르': ['안'],\n '날으': ['매가', '장'],\n '다지': ['마음속'],\n '장가들': ['허', '포수', '댁'],\n '돌아다니': ['여염집'],\n '짜내': ['웃음'],\n '댕기': ['불'],\n '앞세우': ['을'],\n '뚜드리': ['대장간', '쇠붙이'],\n '달아오르': ['불'],\n '드리우': ['달무리', '빛깔', '둘레'],\n '터놓': ['대청'],\n '불어오': ['바람'],\n '내버리': ['보'],\n '호': ['삼월'],\n '실리': ['근심'],\n '잠기': ['목소리', '생각'],\n '들르': ['주막', '사랑'],\n '굳히': ['지반'],\n '가하': ['차'],\n '깨어나': ['생각'],\n '켜': ['불', '불'],\n '내려서': ['마루', '뜰'],\n '지러지': ['누'],\n '범하': ['죄'],\n '흘러들': ['귓가'],\n '짤리': ['다리'],\n '도망가': ['집이', '일본'],\n '물러나': ['임금'],\n '빨아먹': ['고혈'],\n '올라앉': ['나귀'],\n '시키': ['순', '목욕', '호강', '삼수'],\n '딲': ['땀방울'],\n '열어젖히': ['방문', '들창'],\n '이렇': ['주객'],\n '마다하': ['저녁'],\n '어우러지': ['사람'],\n '틀리': ['수'],\n '생각히': ['허'],\n '갚': ['원수'],\n '세': ['심', '심', '힘'],\n '흝': ['아래위'],\n '굴러다니': ['구석'],\n '깁': ['차면'],\n '기르': ['이'],\n '기어나오': ['르'],\n '떠나오': ['평사리'],\n '궂': ['날씨'],\n '두드러지': ['이외'],\n '다르': ['마음가짐'],\n '드러나': ['속', '모습'],\n '잡아끌': ['속'],\n '용솟음치': ['해'],\n '뒤돌아보': ['고'],\n '눌어붙': ['석'],\n '노하': ['신'],\n '숨어들': ['인종'],\n '따라다니': ['사당패'],\n '내리가': ['장'],\n '집어던지': ['칼', '바지게', '망태'],\n '꼴': ['보고', '손님'],\n '휘둥그래지': ['눈', '눈'],\n '드러눕': ['평생'],\n '떠보': ['한술'],\n '헤집': ['불'],\n '내동댕이치': ['통', '마루', '위'],\n '불지르': ['삼간'],\n '배어나': ['기름땀'],\n '번득이': ['적의', '공중'],\n '씻기': ['얼굴'],\n '감기': ['몸'],\n '갈라지': ['목소리'],\n '처지': ['인사'],\n '태이': ['복'],\n '소리치': ['팔'],\n '돌아눕': ['댁'],\n '면하': ['갈증'],\n '쏘다니': ['들판'],\n '빼놓': ['꼭지'],\n '걷어올리': ['지'],\n '우떻': ['인심', '지체'],\n '기어오르': ['밥그릇'],\n '애끼': ['참'],\n '건디리': ['딸'],\n '안치': ['대시'],\n '조아리': ['머리', '머리', '앞', '머리'],\n '안되': ['얼굴'],\n '마치': ['말'],\n '찡그리': ['얼굴'],\n '가져가': ['총'],\n '받치': ['통'],\n '낫': ['담', '이자'],\n '시시덕거리': ['치'],\n ...}"
     },
     "metadata": {},
     "execution_count": 51
    }
   ],
   "source": [
    "from konlpy.tag import Kkma\n",
    "\n",
    "with open('박경리_토지1.txt') as f:\n",
    "    lines = [l.strip() for l in f.read().splitlines() if l.strip()]\n",
    "\n",
    "def count_seen_headwords(lines, predicate='VV', headword='NNG'):\n",
    "    tagger = Kkma()\n",
    "    seen_dict = {}\n",
    "    \n",
    "    for line in lines:\n",
    "        pos_result = tagger.pos(line)\n",
    "        \n",
    "        word_h = None\n",
    "        word_p = None\n",
    "        for word, pos in pos_result:\n",
    "            if pos == predicate or pos[:3] == predicate + '+':\n",
    "                word_p = word\n",
    "                break\n",
    "            if pos == headword:\n",
    "                word_h = word\n",
    "        \n",
    "        if word_h is not None and word_p is not None:\n",
    "            seen_dict[word_p] = [word_h] + ([] if seen_dict.get(word_p) is None else seen_dict[word_p])\n",
    "            \n",
    "    return seen_dict\n",
    "\n",
    "seen_headwords = count_seen_headwords(lines)\n",
    "seen_headwords"
   ]
  },
  {
   "cell_type": "code",
   "execution_count": 52,
   "metadata": {},
   "outputs": [],
   "source": [
    "import torch\n",
    "torch.save(seen_headwords, 'seen_headwords.pth')"
   ]
  },
  {
   "cell_type": "code",
   "execution_count": 53,
   "metadata": {},
   "outputs": [
    {
     "output_type": "execute_result",
     "data": {
      "text/plain": "구마',\n  '철',\n  '멋',\n  '덕',\n  '물리'],\n '거들떠보': ['눈'],\n '물르': ['허'],\n '터지': ['수', '젖가슴', '화통', '가리', '자질', '일'],\n '나타내': ['신분', '변화', '흥분'],\n '가두': ['도장'],\n '카': ['대문', '정성', '인물', '이사', '심', '제집', '사라'],\n '죽': ['말',\n  '마마',\n  '풀이',\n  '나이',\n  '할매',\n  '간난',\n  '딸',\n  '할매',\n  '감',\n  '할멈',\n  '과부',\n  '풀이',\n  '연두',\n  '내가',\n  '목매',\n  '여인',\n  '할망구',\n  '얼굴',\n  '작',\n  '명이',\n  '마라',\n  '소나무',\n  '남'],\n '닫': ['문', '구신'],\n '눈물나': ['눈'],\n '꾀': ['천이'],\n '맞': ['맘',\n  '눈',\n  '죽',\n  '불',\n  '매',\n  '총',\n  '세도',\n  '어지',\n  '눈',\n  '죽',\n  '칼',\n  '입',\n  '주묵',\n  '천이',\n  '앞뒤',\n  '매도',\n  '벼락'],\n '그리하': ['라',\n  '집안',\n  '음',\n  '자식',\n  '더',\n  '원망',\n  '자',\n  '음',\n  '열',\n  '겁',\n  '성미',\n  '저녁',\n  '군',\n  '시기',\n  '반',\n  '연지',\n  '어머니',\n  '여우',\n  '머리',\n  '안색',\n  '지라',\n  '기지',\n  '감이',\n  '동네',\n  '어른',\n  '안',\n  '마라'],\n '타': ['바람',\n  '가마',\n  '바람',\n  '말',\n  '숨결',\n  '상',\n  '틈',\n  '시원',\n  '모깃불',\n  '연',\n  '말',\n  '아미',\n  '바람',\n  '만족',\n  '말',\n  '불만',\n  '노염',\n  '오',\n  '바람',\n  '장작'],\n '몰르': ['환장', '누'],\n '싶': ['건성', '지', '말', '성'],\n '쥐어박': ['머리', '머리'],\n '까': ['때',\n  '피신처',\n  '르',\n  '독자',\n  '바',\n  '사주',\n  '어보',\n  '바',\n  '한마디',\n  '건넌방',\n  '정말',\n  '제',\n  '밤',\n  '개',\n  '주',\n  '예',\n  '르',\n  '박복',\n  '기',\n  '안',\n  '을',\n  '밤'],\n '벗기': ['갑', '껍질'],\n '버리': ['재미', '계집', '별당', '손'],\n '펴보': ['손'],\n '내배': ['삼수'],\n '메우': ['공간', '사방'],\n '벌이': ['판', '을', '격투'],\n '덮치': ['눈', '납덩이'],\n '도사리': ['마루', '사랑'],\n '노': ['눈', '사람'],\n '데려오': ['박', '양자', '엄마', '엄마'],\n '울부짖': ['발광'],\n '넋빠지': ['순'],\n '업': ['손자', '용', '서방님', '길상', '애기씨', '삼월', '쟁', '일', '길상'],\n '키': ['리', '불', '불', '촛불', '불'],\n '꼬집': ['무릎'],\n '꺼내': ['손수건'],\n '얼': ['시어머니', '가', '불빛', '음', '딸', '얼음'],\n '들어차': ['뜨락'],\n '풀어지': ['의식'],\n '느껴': ['거짓말'],\n '밀려오': ['득'],\n '가보': ['늙은이', '보소', '할매'],\n '일으키': ['난', '몸'],\n '바라보': ['을',\n  '상여',\n  '때',\n  '마루',\n  '용',\n  '용',\n  '치수',\n  '굴',\n  '뒷모습',\n  '서까래',\n  '불길',\n  '산',\n  '안댁',\n  '눈'],\n '낳': ['셈',\n  '사철',\n  '초행자',\n  '양반',\n  '화가',\n  '희생',\n  '구형',\n  '보고',\n  '젖',\n  '식이',\n  '불',\n  '용',\n  '겨울',\n  '아이',\n  '몸',\n  '물건',\n  '결말'],\n '대하': ['마음',\n  '어머니',\n  '조',\n  '예',\n  '근',\n  '양반',\n  '아내',\n  '일',\n  '구별',\n  '사건',\n  '동학당',\n  '혁명',\n  '아씨',\n  '근본',\n  '댁',\n  '녀',\n  '주가'],\n '만들': ['가루', '화근', '뒤죽박죽', '역사'],\n '봉하': ['입'],\n '시': ['지보', '돈', '술', '아침', '디', '시절', '님', '심'],\n '맞장구치': ['근거'],\n '같': ['전'],\n '흘리': ['피', '콧물', '눈물', '눈물', '침', '땀', '침', '침', '땀'],\n '숨': ['뒷모습', '지하', '때'],\n '여기': ['기', '목숨', '밭일', '업', '녀', '놀이'],\n '귀담아듣': ['말'],\n '깨닫': ['용도', '고', '달수', '뜻'],\n '불르': ['무당', '일', '부인', '서방', '소리', '큰소리', '한번'],\n '개': ['유', '유'],\n '여물': ['머릿골'],\n '깜박이': ['눈', '눈도'],\n '없이': ['은', '이', '자가', '인덕'],\n '더듬': ['눈', '말'],\n '놀': ['벌레', '뜰', '말대', '물동이', '구의', '쪽', '마룻장', '연못가'],\n '들어서': ['방안', '로', '안', '마당', '주막', '속', '마당', '뜰', '집', '장터', '뜨락'],\n '잡수': ['먼지', '미음'],\n '겹': ['설움'],\n '피나': ['꽃'],\n '울리': ['아낙', '뇌성', '들판', '소리', '소리', '소리', '목소리', '소리', '사람'],\n '괴': ['히', '높이', '물', '눈물'],\n '서': ['일어',\n  '서',\n  '장바닥',\n  '을',\n  '앞',\n  '주막',\n  '일어',\n  '보',\n  '밖',\n  '서방',\n  '혼자',\n  '독기',\n  '우',\n  '친정',\n  '앞',\n  '숙모',\n  '이기',\n  '날'],\n '세우': ['초', '날', '귀', '머리', '날'],\n '쳐다보': ['얼굴',\n  '댁',\n  '의원',\n  '근심',\n  '대',\n  '모습',\n  '을',\n  '할멈',\n  '표정',\n  '용',\n  '용',\n  '윤',\n  '안주',\n  '꾸러미',\n  '쪽'],\n '돌려주': ['구', '약'],\n '디': ['눈독', '문'],\n '떠울리': ['세숫물'],\n '꼬': ['서방', '깨소금'],\n '피어오르': ['글'],\n '껴안': ['허리', '손'],\n '누이': ['을'],\n '도': ['각시', '짐승'],\n '끄': ['불', '털', '등잔불'],\n '안': ['망태', '자', '모친', '시어머니', '순'],\n '넓': ['부인'],\n '울': ['자식',\n  '선',\n  '암탉',\n  '서방',\n  '댁네',\n  '매미',\n  '벌레',\n  '개구리',\n  '일',\n  '설',\n  '아이',\n  '뻐꾸기',\n  '암탉',\n  '첫닭',\n  '애기씨',\n  '순'],\n '꾸짖': ['목소리'],\n '지켜보': ['의원', '죽음', '선', '동작'],\n '떨': ['을', '훈장', '전신', '길', '누', '오늘', '내가', '마을', '망', '길상', '지', '부'],\n '울먹거리': ['순'],\n '집': ['실꾸리'],\n '번지': ['미소', '미소'],\n '뇌': ['입속', '말', '만족'],\n '쪼으': ['땅바닥'],\n '나자빠지': ['뒤'],\n '뽀': ['노', '살림살이', '살림살이'],\n '생기': ['그릇', '지게'],\n '퍼넣': ['여물통'],\n '흔들리': ['요령', '불빛', '눈알', '행복', '선망', '달빛', '순간', '바람', '요령'],\n '모이': ['어른', '모양'],\n '맞이하': ['어둠', '겨울'],\n '뒤적이': ['쇠죽'],\n '줄': ['밖', '말', '사실', '치수', '치수', '눈', '커서'],\n '질러가': ['마당', '마당'],\n '쓸': ['가루', '마당', '엽총', '바람', '바닥', '밑', '마당'],\n '살리': ['임'],\n '사': ['약',\n  '사람',\n  '성',\n  '우리집',\n  '고',\n  '하루',\n  '매',\n  '술',\n  '아배',\n  '더',\n  '병자',\n  '돌팔이',\n  '이',\n  '봉',\n  '열세',\n  '사람',\n  '안',\n  '이자',\n  '열',\n  '해',\n  '내가',\n  '개축',\n  '개축',\n  '사람',\n  '개기',\n  '개기',\n  '열세',\n  '일가',\n  '갈피',\n  '개피떡',\n  '상놈',\n  '요새'],\n '매이': ['간', '몸', '제집'],\n '과하': ['복'],\n '터뜨리': ['울화통'],\n '시들': ['댕기', '댁'],\n '모자라': ['양기', '기가', '양기', '돈', '수단'],\n '빠지': ['속',\n  '새',\n  '새',\n  '수렁',\n  '뼈',\n  '사이',\n  '뼛골',\n  '쓸개',\n  '살이',\n  '시선',\n  '힘',\n  '염',\n  '뼈',\n  '바닥',\n  '날',\n  '이',\n  '노인',\n  '밑',\n  '밑'],\n '야물': ['댁네'],\n '벌개지': ['귀뿌리', '얼굴', '얼굴', '얼굴', '얼굴', '얼굴', '얼굴'],\n '맺': ['말', '말끝', '베틀', '돈'],\n '삼': ['볼모', '벗', '이불', '말벗', '사돈'],\n '저러': ['허탕'],\n '내뱉': ['큰소리', '속', '한마디', '말', '댁', '칠성'],\n '변하': ['비웃음',\n  '색',\n  '잔인',\n  '사람',\n  '사람',\n  '얼굴빛',\n  '낯빛',\n  '초지장',\n  '얼굴빛',\n  '천하',\n  '백지장',\n  '빛',\n  '세상',\n  '빛깔',\n  '회갈색'],\n '잊': ['기', '월선', '길상', '요새', '초조', '길상', '말', '맛'],\n '쌓이': ['밖'],\n '두': ['매',\n  '다짐',\n  '일',\n  '군',\n  '치레',\n  '심중',\n  '겉',\n  '자식',\n  '다짐',\n  '솜',\n  '일',\n  '연놈',\n  '월선',\n  '솜'],\n '그을리': ['로', '강바람'],\n '얽히': ['여'],\n '자시': ['객리'],\n '바치': ['공양', '성'],\n '개기': ['오지'],\n '뱉': ['침', '침', '침', '침'],\n '날뛰': ['정열적', '장안'],\n '끝나': ['싸움', '하관', '말', '탈놀음', '말', '말', '내사', '판'],\n '백이': ['이'],\n '돋': ['흥', '사나이', '구슬', '뒤쪽', '눈물', '세상'],\n '씹어뱉': ['반찬'],\n '겄': ['살',\n  '몸살',\n  '묵',\n  '떼',\n  '살이',\n  '모래',\n  '어주',\n  '르',\n  '열',\n  '열',\n  '오',\n  '지',\n  '바',\n  '가야',\n  '살',\n  '보',\n  '리',\n  '낫',\n  '물리',\n  '바람'],\n '부치': ['몸', '히', '땅', '땅'],\n '빼': ['빗장', '내고', '얼굴', '이마', '점잔', '집'],\n '커': ['짐작', '원통'],\n '트': ['길', '땅'],\n '빨': ['음', '피', '피', '담배', '피'],\n '빌어묵': ['장'],\n '되돌아오': ['마을'],\n '물어뜯기': ['겁탈'],\n '섞이': ['울음', '불만', '자랑'],\n '오르': ['독', '청', '시세', '벼슬', '벼슬길', '피', '베틀', '비리'],\n '어짜': ['수염'],\n '걷히': ['웃음'],\n '떼': ['입', '시치미', '을', '돈'],\n '들어내': ['농짝'],\n '사라지': ['표정', '논둑', '뒷모습', '사랑', '사랑', '속'],\n '던지': ['시선', '로'],\n '끝내': ['세수', '빨래', '저녁', '바둑', '셈', '인사', '방랑길'],\n '받아내': ['장세'],\n '일': ['경련', '발작', '심화', '바람'],\n '나타나': ['물건', '집이', '문간', '길상', '주막', '팽나무', '칠성'],\n '빠져나오': ['장터'],\n '잇': ['말', '말', '명', '이야기', '졸지', '말'],\n '애먹': ['애기씨'],\n '비우': ['접시'],\n '벌리': ['눈', '팔', '아가리', '입'],\n '우쩌': ['이', '하'],\n '마시': ['근심', '술', '윌', '심려', '소리', '억측', '의치', '술', '술'],\n '파': ['들', '자리', '땅', '뿌리', '땅', '흙'],\n '떠오르': ['웃음', '머릿속', '빛', '로'],\n '강하': ['아집', '자부심', '질투'],\n '파묻히': ['속', '속', '속'],\n '묶': ['목'],\n '노리': ['용'],\n '떠나': ['서울',\n  '전',\n  '참판댁',\n  '고',\n  '산',\n  '물동이',\n  '문전',\n  '구천',\n  '길',\n  '양반',\n  '자리',\n  '배',\n  '아침',\n  '길',\n  '을',\n  '길',\n  '삽짝'],\n '이쁘': ['댁네'],\n '얹': ['리', '대가리', '등에', '위'],\n '빌': ['낮', '가랑비', '야', '집', '지애', '애', '장수', '신장대', '신장대', '성취'],\n '싣': ['서울', '복'],\n '열리': ['방문', '옥매화', '안'],\n '욕보': ['매가', '오니'],\n '날아오': ['덕', '핀잔'],\n '치오르': ['눈꼬리'],\n '말리': ['조상', '조상', '돌이', '이번', '가'],\n '있었': ['곳', '꿈속', '악의'],\n '싫어하': ['생각', '변화', '임'],\n '말': ['라지',\n  '보리죽',\n  '걱정',\n  '마',\n  '걱정',\n  '마',\n  '잔소리',\n  '어른',\n  '걱정',\n  '라',\n  '걱정',\n  '말',\n  '가'],\n '매': ['목', '얼', '밭', '나귀', '밭', '청승', '달'],\n '돌아가': ['집',\n  '시국',\n  '로',\n  '이동진',\n  '모습',\n  '외양간',\n  '집',\n  '뒤쪽',\n  '잔',\n  '서울',\n  '수포',\n  '얼굴',\n  '집'],\n '견디': ['날씨', '스님', '포악'],\n '떠받들': ['권위'],\n '늙': ['가지', '아씨', '나이'],\n '돌아가시': ['배', '기요'],\n '놔두': ['입', '일'],\n '돋우': ['심지', '심지'],\n '주워듣': ['상상'],\n '당하': ['변', '날치기', '도', '수모', '꼬임', '놀림', '수모'],\n '밀어붙이': ['웃목'],\n '않': ['지', '지', '지', '지도', '지', '지', '납지', '지', '상치', '지', '지도', '지', '지'],\n '팔': ['값', '한눈', '영', '나라', '안', '술', '넋', '몸', '팔기', '여자'],\n '깊어지': ['이야기'],\n '삼키': ['침', '침', '속', '침'],\n '묵어가': ['하룻밤'],\n '내어놓': ['목심', '벼슬'],\n '이르': ['산',\n  '마을',\n  '계집종',\n  '개똥',\n  '노스님',\n  '참판댁',\n  '월선',\n  '강가',\n  '선',\n  '문전',\n  '은',\n  '산골'],\n '뭐하': ['내고', '르'],\n '넣': ['나도', '손', '티'],\n '마': ['갑', '티끌', '재수', '이요', '양잿물', '가락', '성', '르', '멋', '오밤중', '음식'],\n '놀리': ['아가리', '딸'],\n '쫓아가': ['길', '부엌', '당황', '뒷간', '고'],\n '쿠': ['시'],\n '나무라': ['개천', '아이', '팽이', '가'],\n '에': ['할멈', '이야기'],\n '가르': ['나도', '주막'],\n '다물': ['입', '입', '입', '입', '입술', '입술'],\n '떠돌': ['객지'],\n '두드리': ['바가지', '치수', '혀', '곰방대', '담뱃대'],\n '떠놓': ['물', '도'],\n '얹히': ['위'],\n '다그': ['뒤안'],\n '붓': ['물', '술', '술', '술'],\n '기어오': ['기류', '맨'],\n '설치': ['사치'],\n '더불': ['병색', '박영효'],\n '끊이': ['밑바닥'],\n '올려놓': ['머리', '안장', '자루바가지', '위'],\n '빚': ['혼란'],\n '입': ['미친놈', '양복', '양복'],\n '뺏': ['그네', '잡이'],\n '믿': ['흥', '허풍', '총대', '한복', '심'],\n '들먹이': ['가락지', '포수'],\n '지니': ['반반', '여우', '기량'],\n '쥐': ['주먹', '주먹', '리', '돈'],\n '동여매': ['수건'],\n '의하': ['이용태'],\n '일어나': ['서울', '자리', '마', '구월', '역전'],\n '이끌': ['길', '포수', '병력'],\n '바꾸': ['미역', '의관', '양상'],\n '되어가': ['일', '쑥밭', '해', '일', '발전'],\n '물들': ['진홍빛', '피'],\n '휩쓸': ['읍내', '동학군'],\n '도망치': ['맨', '액'],\n '표하': ['의', '의'],\n '니': ['기름', '귀', '욕심', '죄', '평생'],\n '문지르': ['얼굴', '을', '고'],\n '보내': ['을', '눈길', '시선', '사람', '눈길', '눈길', '참판댁'],\n '설레': ['평일', '가슴'],\n '낯설': ['생각'],\n '미어지': ['가슴'],\n '퍼지르': ['앞', '마당', '바닥'],\n '바라': ['빛', '자식', '벼슬길', '애기'],\n '달라지': ['사람',\n  '말씨',\n  '얼굴빛',\n  '낯빛',\n  '들판',\n  '세상',\n  '낯빛',\n  '낯빛',\n  '얼굴빛',\n  '사정',\n  '얼굴빛',\n  '세상',\n  '말씨'],\n '챙기': ['걸레', '물감'],\n '뵈': ['꿈', '덕', '뽄때', '포수', '절'],\n '맞잡': ['손', '손'],\n '땋': ['몸매'],\n '살아나': ['탈'],\n '치켜들': ['뒷도련', '탈'],\n '끼': ['이끼', '새', '겨드랑이', '홀', '보따리', '데', '토', '근심', '팔짱'],\n '다듬': ['을'],\n '살아가': ['재주'],\n '불거지': ['실밥'],\n '쌓': ['옆', '보자기', '오줌', '나무'],\n '새어들': ['로'],\n '밀어내': ['다래끼', '대접'],\n '들이마시': ['코'],\n '굴러들': ['마을'],\n '붙': ['옆',\n  '행랑',\n  '뒷벽',\n  '하니',\n  '구신',\n  '구신',\n  '구신',\n  '김',\n  '앞',\n  '노',\n  '머슴',\n  '숨',\n  '종놈'],\n '내려가': ['집', '마을', '을', '로'],\n '뽑아내': ['바늘'],\n '끝맺': ['말'],\n '튕기': ['목소리'],\n '어지럽히': ['안'],\n '감싸': ['가', '손', '턱'],\n '이기': ['일본', '후예', '누', '종년', '성미'],\n '들이': ['방구석', '돌', '넋', '쌍', '물'],\n '고리': ['반'],\n '할딱이': ['숨'],\n '올라오': ['아래쪽'],\n '넘치': ['물이', '몸', '밖', '생명'],\n '우쭐대': ['길상'],\n '내려놓': ['손님', '땅바닥'],\n '다하': ['박', '목숨', '일'],\n '기다리': ['발설', '이상', '심', '지기', '윤', '심덕', '서서'],\n '떠나버리': ['밖', '육로'],\n '올르': ['누', '당사자', '독', '서울', '기름', '스님', '꼭대기', '재수', '나그네'],\n '싸쥐': ['감'],\n '밀': ['등'],\n '꿇': ['무릎', '무릎'],\n '일어서': ['결성', '풀섶', '댁', '마루', '이동진', '월선'],\n '두르': ['치마'],\n '데려다주': ['거들'],\n '끌리': ['지남철'],\n '사무치': ['골수', '냉기'],\n '질르': ['소리', '부', '소', '큰소리'],\n '팔리': ['정신'],\n '옴지락거리': ['몸'],\n '슬': ['어르신', '오'],\n '뿜': ['연기', '분위기'],\n '놀라': ['모친', '월선'],\n '틀어지': ['비위'],\n '가시': ['절', '오늘', '표정'],\n '닮': ['아비', '낚시질', '어미', '애비', '밀'],\n '돌': ['맴',\n  '덕',\n  '빛',\n  '눈물',\n  '숲',\n  '을',\n  '눈물',\n  '눈',\n  '뱅뱅이',\n  '눈물',\n  '맴',\n  '집안',\n  '모랭이',\n  '눈물',\n  '방',\n  '기색',\n  '눈물'],\n '주고받': ['말', '애기', '얘기'],\n '피우': ['딴전', '담배', '소란'],\n '엇바꾸': ['자리'],\n '추': ['춤', '맨', '춤', '아래', '그늘', '춤', '병신춤'],\n '춤추': ['지'],\n '올라가': ['기로', '발길', '길', '언덕', '가겟방'],\n '치켜올리': ['말기'],\n '들이대': ['의병', '얼굴'],\n '내리': ['나귀', '대바구니', '결단', '지시', '비', '앞', '나귀', '서리'],\n '구부러지': ['리'],\n '비': ['마당', '연', '하늘', '뜰'],\n '찌': ['날씨', '이', '심', '수도'],\n '물려받': ['할아범'],\n '어기': ['철'],\n '들여다보': ['마당'],\n '기': ['서방', '이사', '말기', '일', '사램', '사램', '길'],\n '들어스': ['밭'],\n '즐기': ['평소', '을', '사냥', '국'],\n '내디디': ['발'],\n '갈기': ['소', '덩이'],\n '원하': ['부인', '아무것'],\n '내다보': ['길', '앞일', '티'],\n '엮': ['싸리', '수숫대', '싸리'],\n '우찌': ['숙모'],\n '갖다대': ['입'],\n '싸': ['우', '무'],\n '외': ['염불'],\n '뒤집어쓰': ['키', '불티'],\n '그렇': ['하니', '생각', '며누리', '아암', '흉사', '모', '바', '마음', '마을', '기'],\n '눕히': ['자리'],\n '찌푸리': ['살', '얼굴', '눈살', '이맛살'],\n '알아차리': ['잘못', '할멈'],\n '업히': ['자아', '등', '등'],\n '알리': ['이쪽'],\n '베리': ['성냥', '도'],\n '구하': ['규수', '구', '주', '엽총', '포', '엽총', '엽총', '불로초', '곳'],\n '얻': ['땅', '히', '나부랭이', '물', '계집', '제삿밥', '물', '물'],\n '물려주': ['제사'],\n '새빨개지': ['볼'],\n '디리': ['심', '상', '심'],\n '어쩌': ['흙담', '자신', '자신', '댁', '룸', '천주학', '만큼', '흥분'],\n '만나': ['비', '세상', '구름', '형님', '포수', '포수', '곽란', '예', '댁네', '아낙', '주막'],\n '휘두르': ['담뱃대'],\n '둘러보': ['사방', '산소'],\n '망하': ['나라', '집안', '나라', '옷', '세상'],\n '끊어지': ['창자', '창자'],\n '살펴보': ['눈'],\n '쭈그러들': ['오가리'],\n '해내': ['농사일'],\n '살아남': ['하나'],\n '밟': ['이슬', '을'],\n '맡': ['냄새', '냄새', '새', '일'],\n '가리키': ['학자', '눈', '턱', '담뱃대'],\n '먹여주': ['배'],\n '모여들': ['얼굴', '사람', '피', '끝', '곳'],\n '뜯어고치': ['마음'],\n '치밀': ['화'],\n '쫓아내': ['동네'],\n '달아나': ['월선', '고', '혼자', '종놈', '무섬증', '집', '토끼', '쇠'],\n '모시': ['선생', '신위', '청상'],\n '눕': ['어미', '들판', '며칠', '놈팡이', '병', '종년', '곽란'],\n '지새우': ['밤'],\n '차리': ['속', '김치', '진지상'],\n '주무시': ['도', '아부지'],\n '서둘': ['마음'],\n '떨리': ['서방', '눈까풀'],\n '엎디': ['보리밭'],\n '건네': ['안댁'],\n '닦이': ['땀'],\n '시집가': ['윗마을'],\n '걷어차': ['밥상'],\n '묻어두': ['보물'],\n '끓': ['물', '이', '파국'],\n '다가앉': ['곁'],\n '가져오': ['냉수', '점심', '숟가락', '호피'],\n '내리오': ['마을', '산신', '할매', '영감'],\n '기어들': ['골방'],\n '쏘아붙이': ['주모'],\n '밀리': ['임', '단시'],\n '묶이': ['발'],\n '어떡허': ['값'],\n '어리': ['나이', '옛날', '이요', '돌이', '기억', '살바기'],\n '골': ['빛깔', '코'],\n '헐': ['이제', '염치', '틀림', '죽음'],\n '낮추': ['어조', '목소리', '허리', '소리'],\n '갓나': ['지'],\n '그러하': ['내림'],\n '계시': ['허물', '벽촌', '역관', '사랑', '손님', '사랑'],\n '뛰어가': ['길상'],\n '알았': ['초당'],\n '쏘이': ['바람'],\n '돋보이': ['선비'],\n '드리': ['안', '인사'],\n '기뻐하': ['노'],\n '취하': ['무시'],\n '묻히': ['속', '수염', '서울', '벽촌'],\n '갈아입': ['베옷', '양복'],\n '몰아넣': ['판국'],\n '주무르': ['빨래', '팔', '히', '을'],\n '앞서가': ['풍습'],\n '가로막': ['말'],\n '끌어들이': ['들', '물'],\n '겪': ['부인', '수모'],\n '쳐들': ['턱', '쇠스랑'],\n '연달': ['변란'],\n '파먹': ['땅', '내장'],\n '얕보': ['힘'],\n '굶기': ['은'],\n '싸지르': ['보고'],\n '뵙': ['다음'],\n '빌리': ['안', '말', '을'],\n '짚': ['맥', '상', '지팡이', '지팡이', '허공'],\n '참': ['기로', '몸', '지금', '웃음', '감당'],\n '흩어지': ['장꾼', '어머니', '아이', '땅바닥'],\n '헤벌어지': ['입'],\n '받으': ['자신', '문'],\n '마르': ['피', '진일', '목', '처'],\n '베': ['전', '목침', '끝', '풀'],\n '맛보': ['보리'],\n '쭈그리': ['길가', '앞', '할멈'],\n '여위': ['입'],\n '허물': ['살가죽'],\n '말르': ['맨'],\n '결리': ['리'],\n '만': ['임', '강청', '할멈'],\n '가물': ['날', '날'],\n '미치': ['테', '제집', '안댁', '낚시', '주먹', '생각'],\n '뜨': ['눈', '눈', '실눈', '눈', '눈', '얼굴', '바가지', '물'],\n '깔깔대': ['아낙', '삼월'],\n '끌어당기': ['팔', '치맛자락'],\n '엎드리': ['옆', '채마밭'],\n '베이': ['골'],\n '덮이': ['잎새'],\n '닿': ['발', '바닥', '이월', '손', '발바닥', '얼굴', '낫'],\n '나불거리': ['주둥이'],\n '야단나': ['삼월'],\n '달래': ['마음', '조상', '삼월'],\n '그치': ['울음'],\n '맨들': ['혼자', '집'],\n '자라': ['씨종', '손', '마음'],\n '머금': ['웃음', '미소', '습기', '을', '냉기'],\n '뛰어오르': ['고기'],\n '내놓': ['말', '종아리', '닭', '눈', '지'],\n '맞아떨어지': ['심'],\n '없': ['일', '오', '사램', '대꾸'],\n '삼기': ['침'],\n '씨': ['유복자'],\n '젖': ['등', '곳', '노'],\n '화하': ['입안'],\n '떠밀': ['배'],\n '희번득이': ['제물'],\n '잘하': ['서도', '우스갯소리'],\n '치우': ['방울', '안'],\n '채': ['눈치'],\n '무릎쓰': ['염치'],\n '헤어지': ['고'],\n '헤매': ['동안', '동안'],\n '숨기': ['치마', '을'],\n '끊': ['도구', '밥', '줄', '말', '발걸음'],\n '쏟아지': ['코피', '억수', '햇빛', '별'],\n '팽개치': ['낫', '멍석', '곰방대'],\n '다니': ['수가', '집'],\n '갇히': ['한동안'],\n '뇌이': ['입속'],\n '찌르': ['을', '목', '코끝', '코'],\n '싸이': ['먼지'],\n '찌그러지': ['아랫목'],\n '신들리': ['연꽃'],\n '사그라지': ['불길'],\n '일그러지': ['불안', '굴'],\n '낚아채': ['머리채', '벌', '갓'],\n '짓밟': ['나막신', '방바닥'],\n '이러': ['서방', '사람', '이', '이'],\n '막히': ['기가', '말문', '숨', '입'],\n '떨어뜨리': ['목소리'],\n '죄': ['다', '부인', '힘'],\n '부끄럽': ['각'],\n '잠들': ['그림', '라'],\n '속': ['흥'],\n '지껄이': ['말', '정통', '아침'],\n '거두': ['섬', '눈길', '낚시줄', '발', '눈길', '보리'],\n '나르': ['소원', '나', '밥상', '겉', '해보'],\n '외치': ['문간', '큰소리'],\n '훑어가': ['콩'],\n '훔치': ['달걀'],\n '퍼붓': ['담', '욕설', '비', '고'],\n '뀌': ['코방귀'],\n '궂히': ['동네', '동네'],\n '푸': ['물', '고집', '수수께끼', '물', '물', '도둑질'],\n '엎이': ['사마'],\n '맑': ['웃물'],\n '어울리': ['양반', '족', '아이놈'],\n '접어놓': ['가슴'],\n '새': ['날', '날도', '요'],\n '거머잡': ['이번'],\n '오그라지': ['손목'],\n '나앉': ['빈손', '마니'],\n '거치': ['마누라', '댁'],\n '헤치': ['소', '을', '어둠'],\n '머물': ['강물', '서울', '한곳'],\n '걸치': ['어깨', '절구통', '가락', '미', '개울'],\n '들고나': ['재물'],\n '아스': ['이'],\n '스며들': ['고', '궁둥이'],\n '들추': ['풍문', '피'],\n '털어놓': ['멋', '이쯤'],\n '놀라워하': ['당황'],\n '지나치': ['옆'],\n '때리': ['양반', '나도', '면상', '조막', '뺨'],\n '감추': ['눈빛', '눈빛'],\n '재미나': ['이번'],\n '들여놓': ['발'],\n '논하': ['국사'],\n '잡히': ['덜미', '치수'],\n '건지': ['목숨'],\n '맞추': ['장단', '비위'],\n '눌리': ['가위', '기세', '압력'],\n '마주치': ['귀녀', '과'],\n '권하': ['훈장', '남', '오르기', '한번', '농부', '을'],\n '사귀': ['일본인', '사람'],\n '나리': ['댁'],\n '깎아내리': ['양반'],\n '품': ['비수', '의문'],\n '숙이': ['고개', '고개'],\n '간하': ['옷맵시'],\n '만지': ['배', '귓밥', '등'],\n '튀': ['불꽃', '불꽃', '콩', '말'],\n '부릅뜨': ['눈', '눈', '눈'],\n '깎': ['무로', '머리'],\n '부끄러워하': ['감격'],\n '달려가': ['집', '헛간', '월선', '구름'],\n '좋': ['시절'],\n '내오': ['상'],\n '제하': ['등'],\n '관하': ['자신'],\n '자르': ['삼끈', '넋두리', '상투'],\n '배우': ['식자', '상놈', '풍월', '을'],\n '내노': ['의견'],\n '덮어놓': ['행세'],\n '들여오': ['제도'],\n '보여주': ['힘'],\n '서두르': ['자리'],\n '긷': ['물', '물', '말'],\n '끼치': ['폐'],\n '나누': ['인사'],\n '적시': ['버선'],\n '다녀오': ['진주', '산', '절', '집'],\n '다스리': ['몸'],\n '쫓기': ['담'],\n '들려주': ['할멈'],\n '치이': ['진저리'],\n '도맡': ['집안'],\n '잃어버리': ['아드님'],\n '싫': ['담'],\n '꾸': ['지'],\n '뻗어지': ['개'],\n '자빠지': ['개'],\n '뜯': ['구전', '송장'],\n '거르': ['저'],\n '내지르': ['새', '르'],\n '빗나가': ['이야기'],\n '때': ['밭', '모친'],\n '내몰': ['강가'],\n '씻': ['보리쌀', '쌀', '국', '쌀'],\n '사하': ['주'],\n '깨': ['선잠', '조'],\n '멍들': ['가문'],\n '거느리': ['첩', '일곱'],\n '남기': ['계집아이', '저주'],\n '흘러가': ['길상'],\n '올려다보': ['바구니', '눈빛', '하늘', '하늘', '석류꽃'],\n '부': ['험이'],\n '엇나가': ['짐작'],\n '속삭이': ['소리'],\n '찢어지': ['속적삼', '소쩍새'],\n '녀': ['귀', '참'],\n '건드리': ['내가'],\n '으스러지': ['뼈'],\n '다녀가': ['마을'],\n '합치': ['육신'],\n '되잡': ['전'],\n '내쉬': ['한숨'],\n '갈라': ['안', '집'],\n '기웃거리': ['방'],\n '뻗': ['뒤'],\n '식히': ['목덜미', '땀'],\n '바래': ['강물'],\n '밝히': ['등잔불', '밤'],\n '담': ['쌀'],\n '얻어묵': ['공것', '한잔', '술'],\n '옮기': ['걸음', '바구니', '밑', '걸음', '걸음', '바리'],\n '찾아들': ['방망이'],\n '막': ['코', '을', '말'],\n '거스르': ['비위'],\n '섬기': ['가장'],\n '덩달': ['조무래기', '말'],\n '타이르': ['가'],\n '따라오': ['말', '댁'],\n '얼씬거리': ['강아지'],\n '뿌시': ['때'],\n '주저앉': ['땅바닥', '댁'],\n '녹이': ['간장'],\n '쓰러뜨리': ['월선'],\n '고치': ['버르장머리', '옷매무새'],\n '식': ['마음', '열기'],\n '직이': ['이요', '날'],\n '누그러지': ['어세'],\n '쳐가': ['불'],\n '짜르': ['상투', '기'],\n '잘못하': ['말'],\n '빌빌거리': ['매'],\n '시집오': ['혼사'],\n '앉히': ['방석'],\n '틀': ['목'],\n '흘기': ['눈'],\n '찧': ['방아'],\n '새우': ['밤'],\n '피하': ['눈', '눈', '구신', '우', '내일', '노름판'],\n '뻗치': ['팔'],\n '좋아지': ['기분'],\n '갸우뚱거리': ['고개'],\n '뚜디': ['일'],\n '벗어나': ['땅', '읍내'],\n '정들이': ['장'],\n '가로놓이': ['밑동'],\n '쐬': ['바람'],\n '덮': ['책'],\n '허': ['소리', '들판'],\n '오므리': ['입', '입'],\n '울려오': ['냄새'],\n '채리': ['정신'],\n '따라댕기': ['양반'],\n '메': ['집안'],\n '일하': ['가숙', '들판'],\n '불어나': ['그릇'],\n '굶': ['옆'],\n '바라지': ['댕기'],\n '뛰어들': ['로'],\n '반짝하': ['눈'],\n '딩굴': ['순'],\n '돋아나': ['피멍'],\n '퍼마시': ['술'],\n '뿌러지': ['몽댕이'],\n '질리': ['바우', '얼굴'],\n '우짖': ['서방'],\n '괴롭히': ['동안'],\n '가르치': ['들', '솜씨'],\n '부풀': ['간덩이'],\n '빈정거리': ['최치수', '주모'],\n '비하': ['장사', '몸집'],\n '매달': ['나무'],\n '물러가': ['서방'],\n '가라앉히': ['자신'],\n '뒤지': ['막'],\n '흐리': ['밑', '기분'],\n '짓눌리': ['밑'],\n '가라': ['누', '부인', '내일'],\n '무르': ['댁'],\n '기어가': ['두꺼비'],\n '매맞': ['관'],\n '굳어지': ['얼굴'],\n '치뜨': ['눈'],\n '어려워하': ['길상'],\n '뿌리': ['물', '물'],\n '잠자': ['남'],\n '일러두': ['서방'],\n '들어보': ['문고', '정이', '얼굴'],\n '눈뜨': ['말씀'],\n '토하': ['숨결', '숨', '숨'],\n '부서지': ['얼굴'],\n '다가가': ['앞', '곁'],\n '다시': ['입맛'],\n '쥐어박히': ['얼굴'],\n '밀치': ['개똥'],\n '거들': ['길상'],\n '속닥거리': ['멋'],\n '윽박지르': ['공이'],\n '전하': ['입', '순', '월선'],\n '채워지': ['통'],\n '어지르': ['안'],\n '날으': ['매가', '장'],\n '다지': ['마음속'],\n '장가들': ['허', '포수', '댁'],\n '돌아다니': ['여염집'],\n '짜내': ['웃음'],\n '댕기': ['불'],\n '앞세우': ['을'],\n '뚜드리': ['대장간', '쇠붙이'],\n '달아오르': ['불'],\n '드리우': ['달무리', '빛깔', '둘레'],\n '터놓': ['대청'],\n '불어오': ['바람'],\n '내버리': ['보'],\n '호': ['삼월'],\n '실리': ['근심'],\n '잠기': ['목소리', '생각'],\n '들르': ['주막', '사랑'],\n '굳히': ['지반'],\n '가하': ['차'],\n '깨어나': ['생각'],\n '켜': ['불', '불'],\n '내려서': ['마루', '뜰'],\n '지러지': ['누'],\n '범하': ['죄'],\n '흘러들': ['귓가'],\n '짤리': ['다리'],\n '도망가': ['집이', '일본'],\n '물러나': ['임금'],\n '빨아먹': ['고혈'],\n '올라앉': ['나귀'],\n '시키': ['순', '목욕', '호강', '삼수'],\n '딲': ['땀방울'],\n '열어젖히': ['방문', '들창'],\n '이렇': ['주객'],\n '마다하': ['저녁'],\n '어우러지': ['사람'],\n '틀리': ['수'],\n '생각히': ['허'],\n '갚': ['원수'],\n '세': ['심', '심', '힘'],\n '흝': ['아래위'],\n '굴러다니': ['구석'],\n '깁': ['차면'],\n '기르': ['이'],\n '기어나오': ['르'],\n '떠나오': ['평사리'],\n '궂': ['날씨'],\n '두드러지': ['이외'],\n '다르': ['마음가짐'],\n '드러나': ['속', '모습'],\n '잡아끌': ['속'],\n '용솟음치': ['해'],\n '뒤돌아보': ['고'],\n '눌어붙': ['석'],\n '노하': ['신'],\n '숨어들': ['인종'],\n '따라다니': ['사당패'],\n '내리가': ['장'],\n '집어던지': ['칼', '바지게', '망태'],\n '꼴': ['보고', '손님'],\n '휘둥그래지': ['눈', '눈'],\n '드러눕': ['평생'],\n '떠보': ['한술'],\n '헤집': ['불'],\n '내동댕이치': ['통', '마루', '위'],\n '불지르': ['삼간'],\n '배어나': ['기름땀'],\n '번득이': ['적의', '공중'],\n '씻기': ['얼굴'],\n '감기': ['몸'],\n '갈라지': ['목소리'],\n '처지': ['인사'],\n '태이': ['복'],\n '소리치': ['팔'],\n '돌아눕': ['댁'],\n '면하': ['갈증'],\n '쏘다니': ['들판'],\n '빼놓': ['꼭지'],\n '걷어올리': ['지'],\n '우떻': ['인심', '지체'],\n '기어오르': ['밥그릇'],\n '애끼': ['참'],\n '건디리': ['딸'],\n '안치': ['대시'],\n '조아리': ['머리', '머리', '앞', '머리'],\n '안되': ['얼굴'],\n '마치': ['말'],\n '찡그리': ['얼굴'],\n '가져가': ['총'],\n '받치': ['통'],\n '낫': ['담', '이자'],\n '시시덕거리': ['치'],\n ...}"
     },
     "metadata": {},
     "execution_count": 53
    }
   ],
   "source": [
    "seen_headwords = torch.load('seen_headwords.pth')\n",
    "seen_headwords"
   ]
  },
  {
   "cell_type": "code",
   "execution_count": 57,
   "metadata": {},
   "outputs": [],
   "source": [
    "# 선택유사도\n",
    "def get_selectional_association(predicate, headword, lines, dataframe, metric):\n",
    "    v1 = torch.FloatTensor(dataframe.loc[headword].values)\n",
    "    seens = seen_headwords[predicate]\n",
    "    \n",
    "    total = 0\n",
    "    for seen in seens:\n",
    "        try:\n",
    "            v2 = torch.FloatTensor(dataframe.loc[seen].values)\n",
    "            total += metric(v1, v2)\n",
    "        except:\n",
    "            pass\n",
    "        \n",
    "    return total"
   ]
  },
  {
   "cell_type": "code",
   "execution_count": 60,
   "metadata": {},
   "outputs": [],
   "source": [
    "co = torch.load('co.path')\n",
    "\n",
    "def wsd(predicate, headwords):\n",
    "    selectional_associations = []\n",
    "    for h in headwords:\n",
    "        selectional_associations += [get_selectional_association(predicate, h, lines, co, get_cosine_similarity)]\n",
    "\n",
    "    print(selectional_associations)\n"
   ]
  },
  {
   "cell_type": "code",
   "execution_count": 65,
   "metadata": {
    "tags": []
   },
   "outputs": [
    {
     "output_type": "stream",
     "name": "stdout",
     "text": "[tensor(3.0000), tensor(3.0000), tensor(3.0000)]\n"
    }
   ],
   "source": [
    "wsd('조아리', ['머리', '머리', '머리'])"
   ]
  }
 ]
}